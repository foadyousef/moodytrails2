{
 "cells": [
  {
   "cell_type": "code",
   "execution_count": 1,
   "metadata": {},
   "outputs": [],
   "source": [
    "import pandas as pd\n",
    "import numpy as np\n",
    "import matplotlib.pyplot as plt\n",
    "from collections import Counter\n",
    "import re\n",
    "\n",
    "%matplotlib inline"
   ]
  },
  {
   "cell_type": "code",
   "execution_count": 2,
   "metadata": {},
   "outputs": [],
   "source": [
    "df = pd.read_csv(\"../Data/donut-falls-trail.csv\")"
   ]
  },
  {
   "cell_type": "code",
   "execution_count": 3,
   "metadata": {},
   "outputs": [
    {
     "name": "stdout",
     "output_type": "stream",
     "text": [
      "(2030, 4)\n"
     ]
    },
    {
     "data": {
      "text/html": [
       "<div>\n",
       "<style scoped>\n",
       "    .dataframe tbody tr th:only-of-type {\n",
       "        vertical-align: middle;\n",
       "    }\n",
       "\n",
       "    .dataframe tbody tr th {\n",
       "        vertical-align: top;\n",
       "    }\n",
       "\n",
       "    .dataframe thead th {\n",
       "        text-align: right;\n",
       "    }\n",
       "</style>\n",
       "<table border=\"1\" class=\"dataframe\">\n",
       "  <thead>\n",
       "    <tr style=\"text-align: right;\">\n",
       "      <th></th>\n",
       "      <th>Unnamed: 0</th>\n",
       "      <th>Date</th>\n",
       "      <th>Tags</th>\n",
       "      <th>Comments</th>\n",
       "    </tr>\n",
       "  </thead>\n",
       "  <tbody>\n",
       "    <tr>\n",
       "      <td>0</td>\n",
       "      <td>0</td>\n",
       "      <td>2019-09-07</td>\n",
       "      <td>['hiking']</td>\n",
       "      <td>Loved this trail!  It's short but I went early...</td>\n",
       "    </tr>\n",
       "    <tr>\n",
       "      <td>1</td>\n",
       "      <td>1</td>\n",
       "      <td>2019-09-07</td>\n",
       "      <td>['hiking']</td>\n",
       "      <td>Popular trail with lots of people. Great short...</td>\n",
       "    </tr>\n",
       "    <tr>\n",
       "      <td>2</td>\n",
       "      <td>2</td>\n",
       "      <td>2019-09-05</td>\n",
       "      <td>['hiking']</td>\n",
       "      <td>Very Easy hike, even if you have to park on th...</td>\n",
       "    </tr>\n",
       "    <tr>\n",
       "      <td>3</td>\n",
       "      <td>3</td>\n",
       "      <td>2019-09-05</td>\n",
       "      <td>['hiking']</td>\n",
       "      <td>You can either park by the highway or take the...</td>\n",
       "    </tr>\n",
       "    <tr>\n",
       "      <td>4</td>\n",
       "      <td>4</td>\n",
       "      <td>2019-09-03</td>\n",
       "      <td>['hiking']</td>\n",
       "      <td>The trail itself was very easy and well shaded...</td>\n",
       "    </tr>\n",
       "    <tr>\n",
       "      <td>...</td>\n",
       "      <td>...</td>\n",
       "      <td>...</td>\n",
       "      <td>...</td>\n",
       "      <td>...</td>\n",
       "    </tr>\n",
       "    <tr>\n",
       "      <td>2025</td>\n",
       "      <td>2027</td>\n",
       "      <td>2012-09-29</td>\n",
       "      <td>['hiking']</td>\n",
       "      <td>NaN</td>\n",
       "    </tr>\n",
       "    <tr>\n",
       "      <td>2026</td>\n",
       "      <td>2028</td>\n",
       "      <td>2012-08-12</td>\n",
       "      <td>['hiking']</td>\n",
       "      <td>NaN</td>\n",
       "    </tr>\n",
       "    <tr>\n",
       "      <td>2027</td>\n",
       "      <td>2029</td>\n",
       "      <td>2012-07-15</td>\n",
       "      <td>['hiking']</td>\n",
       "      <td>NaN</td>\n",
       "    </tr>\n",
       "    <tr>\n",
       "      <td>2028</td>\n",
       "      <td>2030</td>\n",
       "      <td>2012-07-15</td>\n",
       "      <td>['hiking']</td>\n",
       "      <td>NaN</td>\n",
       "    </tr>\n",
       "    <tr>\n",
       "      <td>2029</td>\n",
       "      <td>2031</td>\n",
       "      <td>2010-06-21</td>\n",
       "      <td>['hiking']</td>\n",
       "      <td>NaN</td>\n",
       "    </tr>\n",
       "  </tbody>\n",
       "</table>\n",
       "<p>2030 rows × 4 columns</p>\n",
       "</div>"
      ],
      "text/plain": [
       "      Unnamed: 0        Date        Tags  \\\n",
       "0              0  2019-09-07  ['hiking']   \n",
       "1              1  2019-09-07  ['hiking']   \n",
       "2              2  2019-09-05  ['hiking']   \n",
       "3              3  2019-09-05  ['hiking']   \n",
       "4              4  2019-09-03  ['hiking']   \n",
       "...          ...         ...         ...   \n",
       "2025        2027  2012-09-29  ['hiking']   \n",
       "2026        2028  2012-08-12  ['hiking']   \n",
       "2027        2029  2012-07-15  ['hiking']   \n",
       "2028        2030  2012-07-15  ['hiking']   \n",
       "2029        2031  2010-06-21  ['hiking']   \n",
       "\n",
       "                                               Comments  \n",
       "0     Loved this trail!  It's short but I went early...  \n",
       "1     Popular trail with lots of people. Great short...  \n",
       "2     Very Easy hike, even if you have to park on th...  \n",
       "3     You can either park by the highway or take the...  \n",
       "4     The trail itself was very easy and well shaded...  \n",
       "...                                                 ...  \n",
       "2025                                                NaN  \n",
       "2026                                                NaN  \n",
       "2027                                                NaN  \n",
       "2028                                                NaN  \n",
       "2029                                                NaN  \n",
       "\n",
       "[2030 rows x 4 columns]"
      ]
     },
     "execution_count": 3,
     "metadata": {},
     "output_type": "execute_result"
    }
   ],
   "source": [
    "print(df.shape)\n",
    "df"
   ]
  },
  {
   "cell_type": "code",
   "execution_count": 7,
   "metadata": {},
   "outputs": [],
   "source": [
    "# Drop the index column\n",
    "df = df.drop(['Unnamed: 0'], axis=1)"
   ]
  },
  {
   "cell_type": "markdown",
   "metadata": {},
   "source": [
    "There is also bunch of rows with no comment or tags. We need to remove them and clean-up the data. "
   ]
  },
  {
   "cell_type": "code",
   "execution_count": 103,
   "metadata": {
    "collapsed": true
   },
   "outputs": [],
   "source": [
    "# Lets remove rows with no comments\n",
    "df = df[pd.notnull(df['Comments'])]"
   ]
  },
  {
   "cell_type": "code",
   "execution_count": 68,
   "metadata": {},
   "outputs": [
    {
     "data": {
      "text/plain": [
       "(845, 4)"
      ]
     },
     "execution_count": 68,
     "metadata": {},
     "output_type": "execute_result"
    }
   ],
   "source": [
    "df.shape"
   ]
  },
  {
   "cell_type": "markdown",
   "metadata": {},
   "source": [
    "#### Here is another way to drop rows with NAN, the only difference is that this one removes everything\n",
    "df = df.dropna()"
   ]
  },
  {
   "cell_type": "code",
   "execution_count": 10,
   "metadata": {},
   "outputs": [
    {
     "data": {
      "text/html": [
       "<div>\n",
       "<style scoped>\n",
       "    .dataframe tbody tr th:only-of-type {\n",
       "        vertical-align: middle;\n",
       "    }\n",
       "\n",
       "    .dataframe tbody tr th {\n",
       "        vertical-align: top;\n",
       "    }\n",
       "\n",
       "    .dataframe thead th {\n",
       "        text-align: right;\n",
       "    }\n",
       "</style>\n",
       "<table border=\"1\" class=\"dataframe\">\n",
       "  <thead>\n",
       "    <tr style=\"text-align: right;\">\n",
       "      <th></th>\n",
       "      <th>Date</th>\n",
       "      <th>Tags</th>\n",
       "      <th>Comments</th>\n",
       "    </tr>\n",
       "  </thead>\n",
       "  <tbody>\n",
       "    <tr>\n",
       "      <td>0</td>\n",
       "      <td>2019-09-07</td>\n",
       "      <td>['hiking']</td>\n",
       "      <td>Loved this trail!  It's short but I went early...</td>\n",
       "    </tr>\n",
       "    <tr>\n",
       "      <td>1</td>\n",
       "      <td>2019-09-07</td>\n",
       "      <td>['hiking']</td>\n",
       "      <td>Popular trail with lots of people. Great short...</td>\n",
       "    </tr>\n",
       "    <tr>\n",
       "      <td>2</td>\n",
       "      <td>2019-09-05</td>\n",
       "      <td>['hiking']</td>\n",
       "      <td>Very Easy hike, even if you have to park on th...</td>\n",
       "    </tr>\n",
       "    <tr>\n",
       "      <td>3</td>\n",
       "      <td>2019-09-05</td>\n",
       "      <td>['hiking']</td>\n",
       "      <td>You can either park by the highway or take the...</td>\n",
       "    </tr>\n",
       "    <tr>\n",
       "      <td>4</td>\n",
       "      <td>2019-09-03</td>\n",
       "      <td>['hiking']</td>\n",
       "      <td>The trail itself was very easy and well shaded...</td>\n",
       "    </tr>\n",
       "    <tr>\n",
       "      <td>...</td>\n",
       "      <td>...</td>\n",
       "      <td>...</td>\n",
       "      <td>...</td>\n",
       "    </tr>\n",
       "    <tr>\n",
       "      <td>2025</td>\n",
       "      <td>2012-09-29</td>\n",
       "      <td>['hiking']</td>\n",
       "      <td>NaN</td>\n",
       "    </tr>\n",
       "    <tr>\n",
       "      <td>2026</td>\n",
       "      <td>2012-08-12</td>\n",
       "      <td>['hiking']</td>\n",
       "      <td>NaN</td>\n",
       "    </tr>\n",
       "    <tr>\n",
       "      <td>2027</td>\n",
       "      <td>2012-07-15</td>\n",
       "      <td>['hiking']</td>\n",
       "      <td>NaN</td>\n",
       "    </tr>\n",
       "    <tr>\n",
       "      <td>2028</td>\n",
       "      <td>2012-07-15</td>\n",
       "      <td>['hiking']</td>\n",
       "      <td>NaN</td>\n",
       "    </tr>\n",
       "    <tr>\n",
       "      <td>2029</td>\n",
       "      <td>2010-06-21</td>\n",
       "      <td>['hiking']</td>\n",
       "      <td>NaN</td>\n",
       "    </tr>\n",
       "  </tbody>\n",
       "</table>\n",
       "<p>2030 rows × 3 columns</p>\n",
       "</div>"
      ],
      "text/plain": [
       "            Date        Tags  \\\n",
       "0     2019-09-07  ['hiking']   \n",
       "1     2019-09-07  ['hiking']   \n",
       "2     2019-09-05  ['hiking']   \n",
       "3     2019-09-05  ['hiking']   \n",
       "4     2019-09-03  ['hiking']   \n",
       "...          ...         ...   \n",
       "2025  2012-09-29  ['hiking']   \n",
       "2026  2012-08-12  ['hiking']   \n",
       "2027  2012-07-15  ['hiking']   \n",
       "2028  2012-07-15  ['hiking']   \n",
       "2029  2010-06-21  ['hiking']   \n",
       "\n",
       "                                               Comments  \n",
       "0     Loved this trail!  It's short but I went early...  \n",
       "1     Popular trail with lots of people. Great short...  \n",
       "2     Very Easy hike, even if you have to park on th...  \n",
       "3     You can either park by the highway or take the...  \n",
       "4     The trail itself was very easy and well shaded...  \n",
       "...                                                 ...  \n",
       "2025                                                NaN  \n",
       "2026                                                NaN  \n",
       "2027                                                NaN  \n",
       "2028                                                NaN  \n",
       "2029                                                NaN  \n",
       "\n",
       "[2030 rows x 3 columns]"
      ]
     },
     "execution_count": 10,
     "metadata": {},
     "output_type": "execute_result"
    }
   ],
   "source": [
    "cf = df\n",
    "cf"
   ]
  },
  {
   "cell_type": "code",
   "execution_count": 11,
   "metadata": {},
   "outputs": [],
   "source": [
    "# remove the brackets and quatations\n",
    "def cleanit(df, text_field):\n",
    "    df[text_field] = df[text_field].str.strip(\"'[]\")\n",
    "    df[text_field] = df[text_field].str.replace(\"'\",\"\")\n",
    "    return df"
   ]
  },
  {
   "cell_type": "code",
   "execution_count": 12,
   "metadata": {},
   "outputs": [
    {
     "data": {
      "text/html": [
       "<div>\n",
       "<style scoped>\n",
       "    .dataframe tbody tr th:only-of-type {\n",
       "        vertical-align: middle;\n",
       "    }\n",
       "\n",
       "    .dataframe tbody tr th {\n",
       "        vertical-align: top;\n",
       "    }\n",
       "\n",
       "    .dataframe thead th {\n",
       "        text-align: right;\n",
       "    }\n",
       "</style>\n",
       "<table border=\"1\" class=\"dataframe\">\n",
       "  <thead>\n",
       "    <tr style=\"text-align: right;\">\n",
       "      <th></th>\n",
       "      <th>Date</th>\n",
       "      <th>Tags</th>\n",
       "      <th>Comments</th>\n",
       "    </tr>\n",
       "  </thead>\n",
       "  <tbody>\n",
       "    <tr>\n",
       "      <td>0</td>\n",
       "      <td>2019-09-07</td>\n",
       "      <td>hiking</td>\n",
       "      <td>Loved this trail!  It's short but I went early...</td>\n",
       "    </tr>\n",
       "    <tr>\n",
       "      <td>1</td>\n",
       "      <td>2019-09-07</td>\n",
       "      <td>hiking</td>\n",
       "      <td>Popular trail with lots of people. Great short...</td>\n",
       "    </tr>\n",
       "    <tr>\n",
       "      <td>2</td>\n",
       "      <td>2019-09-05</td>\n",
       "      <td>hiking</td>\n",
       "      <td>Very Easy hike, even if you have to park on th...</td>\n",
       "    </tr>\n",
       "    <tr>\n",
       "      <td>3</td>\n",
       "      <td>2019-09-05</td>\n",
       "      <td>hiking</td>\n",
       "      <td>You can either park by the highway or take the...</td>\n",
       "    </tr>\n",
       "    <tr>\n",
       "      <td>4</td>\n",
       "      <td>2019-09-03</td>\n",
       "      <td>hiking</td>\n",
       "      <td>The trail itself was very easy and well shaded...</td>\n",
       "    </tr>\n",
       "    <tr>\n",
       "      <td>...</td>\n",
       "      <td>...</td>\n",
       "      <td>...</td>\n",
       "      <td>...</td>\n",
       "    </tr>\n",
       "    <tr>\n",
       "      <td>2025</td>\n",
       "      <td>2012-09-29</td>\n",
       "      <td>hiking</td>\n",
       "      <td>NaN</td>\n",
       "    </tr>\n",
       "    <tr>\n",
       "      <td>2026</td>\n",
       "      <td>2012-08-12</td>\n",
       "      <td>hiking</td>\n",
       "      <td>NaN</td>\n",
       "    </tr>\n",
       "    <tr>\n",
       "      <td>2027</td>\n",
       "      <td>2012-07-15</td>\n",
       "      <td>hiking</td>\n",
       "      <td>NaN</td>\n",
       "    </tr>\n",
       "    <tr>\n",
       "      <td>2028</td>\n",
       "      <td>2012-07-15</td>\n",
       "      <td>hiking</td>\n",
       "      <td>NaN</td>\n",
       "    </tr>\n",
       "    <tr>\n",
       "      <td>2029</td>\n",
       "      <td>2010-06-21</td>\n",
       "      <td>hiking</td>\n",
       "      <td>NaN</td>\n",
       "    </tr>\n",
       "  </tbody>\n",
       "</table>\n",
       "<p>2030 rows × 3 columns</p>\n",
       "</div>"
      ],
      "text/plain": [
       "            Date    Tags                                           Comments\n",
       "0     2019-09-07  hiking  Loved this trail!  It's short but I went early...\n",
       "1     2019-09-07  hiking  Popular trail with lots of people. Great short...\n",
       "2     2019-09-05  hiking  Very Easy hike, even if you have to park on th...\n",
       "3     2019-09-05  hiking  You can either park by the highway or take the...\n",
       "4     2019-09-03  hiking  The trail itself was very easy and well shaded...\n",
       "...          ...     ...                                                ...\n",
       "2025  2012-09-29  hiking                                                NaN\n",
       "2026  2012-08-12  hiking                                                NaN\n",
       "2027  2012-07-15  hiking                                                NaN\n",
       "2028  2012-07-15  hiking                                                NaN\n",
       "2029  2010-06-21  hiking                                                NaN\n",
       "\n",
       "[2030 rows x 3 columns]"
      ]
     },
     "execution_count": 12,
     "metadata": {},
     "output_type": "execute_result"
    }
   ],
   "source": [
    "cleanit(cf, 'Tags')"
   ]
  },
  {
   "cell_type": "markdown",
   "metadata": {},
   "source": [
    "Now let's expand out classification column into a \"multi labeled\" series of classes."
   ]
  },
  {
   "cell_type": "code",
   "execution_count": 13,
   "metadata": {},
   "outputs": [],
   "source": [
    "df[['class1','class2','class3','class4']] = cf['Tags'].str.split(\",\", expand=True)"
   ]
  },
  {
   "cell_type": "markdown",
   "metadata": {},
   "source": [
    "So now we have a dataset with multi-label for classification and the comment column. We will be cleaning up the label column in order to prepare it for classification. "
   ]
  },
  {
   "cell_type": "code",
   "execution_count": 14,
   "metadata": {},
   "outputs": [
    {
     "data": {
      "text/html": [
       "<div>\n",
       "<style scoped>\n",
       "    .dataframe tbody tr th:only-of-type {\n",
       "        vertical-align: middle;\n",
       "    }\n",
       "\n",
       "    .dataframe tbody tr th {\n",
       "        vertical-align: top;\n",
       "    }\n",
       "\n",
       "    .dataframe thead th {\n",
       "        text-align: right;\n",
       "    }\n",
       "</style>\n",
       "<table border=\"1\" class=\"dataframe\">\n",
       "  <thead>\n",
       "    <tr style=\"text-align: right;\">\n",
       "      <th></th>\n",
       "      <th>Date</th>\n",
       "      <th>Tags</th>\n",
       "      <th>Comments</th>\n",
       "      <th>class1</th>\n",
       "      <th>class2</th>\n",
       "      <th>class3</th>\n",
       "      <th>class4</th>\n",
       "    </tr>\n",
       "  </thead>\n",
       "  <tbody>\n",
       "    <tr>\n",
       "      <td>0</td>\n",
       "      <td>2019-09-07</td>\n",
       "      <td>hiking</td>\n",
       "      <td>Loved this trail!  It's short but I went early...</td>\n",
       "      <td>hiking</td>\n",
       "      <td>None</td>\n",
       "      <td>None</td>\n",
       "      <td>None</td>\n",
       "    </tr>\n",
       "    <tr>\n",
       "      <td>1</td>\n",
       "      <td>2019-09-07</td>\n",
       "      <td>hiking</td>\n",
       "      <td>Popular trail with lots of people. Great short...</td>\n",
       "      <td>hiking</td>\n",
       "      <td>None</td>\n",
       "      <td>None</td>\n",
       "      <td>None</td>\n",
       "    </tr>\n",
       "  </tbody>\n",
       "</table>\n",
       "</div>"
      ],
      "text/plain": [
       "         Date    Tags                                           Comments  \\\n",
       "0  2019-09-07  hiking  Loved this trail!  It's short but I went early...   \n",
       "1  2019-09-07  hiking  Popular trail with lots of people. Great short...   \n",
       "\n",
       "   class1 class2 class3 class4  \n",
       "0  hiking   None   None   None  \n",
       "1  hiking   None   None   None  "
      ]
     },
     "execution_count": 14,
     "metadata": {},
     "output_type": "execute_result"
    }
   ],
   "source": [
    "df.head(2)"
   ]
  },
  {
   "cell_type": "markdown",
   "metadata": {},
   "source": [
    "Let's remove the columns that are not going to be use. "
   ]
  },
  {
   "cell_type": "code",
   "execution_count": 15,
   "metadata": {},
   "outputs": [
    {
     "data": {
      "text/html": [
       "<div>\n",
       "<style scoped>\n",
       "    .dataframe tbody tr th:only-of-type {\n",
       "        vertical-align: middle;\n",
       "    }\n",
       "\n",
       "    .dataframe tbody tr th {\n",
       "        vertical-align: top;\n",
       "    }\n",
       "\n",
       "    .dataframe thead th {\n",
       "        text-align: right;\n",
       "    }\n",
       "</style>\n",
       "<table border=\"1\" class=\"dataframe\">\n",
       "  <thead>\n",
       "    <tr style=\"text-align: right;\">\n",
       "      <th></th>\n",
       "      <th>Date</th>\n",
       "      <th>Comments</th>\n",
       "      <th>class1</th>\n",
       "      <th>class2</th>\n",
       "      <th>class3</th>\n",
       "      <th>class4</th>\n",
       "    </tr>\n",
       "  </thead>\n",
       "  <tbody>\n",
       "    <tr>\n",
       "      <td>0</td>\n",
       "      <td>2019-09-07</td>\n",
       "      <td>Loved this trail!  It's short but I went early...</td>\n",
       "      <td>hiking</td>\n",
       "      <td>None</td>\n",
       "      <td>None</td>\n",
       "      <td>None</td>\n",
       "    </tr>\n",
       "    <tr>\n",
       "      <td>1</td>\n",
       "      <td>2019-09-07</td>\n",
       "      <td>Popular trail with lots of people. Great short...</td>\n",
       "      <td>hiking</td>\n",
       "      <td>None</td>\n",
       "      <td>None</td>\n",
       "      <td>None</td>\n",
       "    </tr>\n",
       "    <tr>\n",
       "      <td>2</td>\n",
       "      <td>2019-09-05</td>\n",
       "      <td>Very Easy hike, even if you have to park on th...</td>\n",
       "      <td>hiking</td>\n",
       "      <td>None</td>\n",
       "      <td>None</td>\n",
       "      <td>None</td>\n",
       "    </tr>\n",
       "    <tr>\n",
       "      <td>3</td>\n",
       "      <td>2019-09-05</td>\n",
       "      <td>You can either park by the highway or take the...</td>\n",
       "      <td>hiking</td>\n",
       "      <td>None</td>\n",
       "      <td>None</td>\n",
       "      <td>None</td>\n",
       "    </tr>\n",
       "    <tr>\n",
       "      <td>4</td>\n",
       "      <td>2019-09-03</td>\n",
       "      <td>The trail itself was very easy and well shaded...</td>\n",
       "      <td>hiking</td>\n",
       "      <td>None</td>\n",
       "      <td>None</td>\n",
       "      <td>None</td>\n",
       "    </tr>\n",
       "  </tbody>\n",
       "</table>\n",
       "</div>"
      ],
      "text/plain": [
       "         Date                                           Comments  class1  \\\n",
       "0  2019-09-07  Loved this trail!  It's short but I went early...  hiking   \n",
       "1  2019-09-07  Popular trail with lots of people. Great short...  hiking   \n",
       "2  2019-09-05  Very Easy hike, even if you have to park on th...  hiking   \n",
       "3  2019-09-05  You can either park by the highway or take the...  hiking   \n",
       "4  2019-09-03  The trail itself was very easy and well shaded...  hiking   \n",
       "\n",
       "  class2 class3 class4  \n",
       "0   None   None   None  \n",
       "1   None   None   None  \n",
       "2   None   None   None  \n",
       "3   None   None   None  \n",
       "4   None   None   None  "
      ]
     },
     "execution_count": 15,
     "metadata": {},
     "output_type": "execute_result"
    }
   ],
   "source": [
    "df = df.drop(['Tags'],axis=1)\n",
    "df.head()"
   ]
  },
  {
   "cell_type": "markdown",
   "metadata": {},
   "source": [
    "Now let's add some the Jday column as a predictor. "
   ]
  },
  {
   "cell_type": "code",
   "execution_count": 16,
   "metadata": {},
   "outputs": [
    {
     "name": "stdout",
     "output_type": "stream",
     "text": [
      "<class 'pandas.core.frame.DataFrame'>\n",
      "RangeIndex: 2030 entries, 0 to 2029\n",
      "Data columns (total 6 columns):\n",
      "Date        2030 non-null object\n",
      "Comments    845 non-null object\n",
      "class1      2030 non-null object\n",
      "class2      56 non-null object\n",
      "class3      25 non-null object\n",
      "class4      7 non-null object\n",
      "dtypes: object(6)\n",
      "memory usage: 95.3+ KB\n"
     ]
    }
   ],
   "source": [
    "df.info()"
   ]
  },
  {
   "cell_type": "code",
   "execution_count": 23,
   "metadata": {},
   "outputs": [],
   "source": [
    "df.Date = pd.to_datetime(df['Date'], format=\"%Y-%m-%d\")"
   ]
  },
  {
   "cell_type": "code",
   "execution_count": 25,
   "metadata": {},
   "outputs": [
    {
     "name": "stdout",
     "output_type": "stream",
     "text": [
      "<class 'pandas.core.frame.DataFrame'>\n",
      "RangeIndex: 2030 entries, 0 to 2029\n",
      "Data columns (total 6 columns):\n",
      "Date        2030 non-null datetime64[ns]\n",
      "Comments    845 non-null object\n",
      "class1      2030 non-null object\n",
      "class2      56 non-null object\n",
      "class3      25 non-null object\n",
      "class4      7 non-null object\n",
      "dtypes: datetime64[ns](1), object(5)\n",
      "memory usage: 95.3+ KB\n"
     ]
    }
   ],
   "source": [
    "df.info()"
   ]
  },
  {
   "cell_type": "code",
   "execution_count": 32,
   "metadata": {},
   "outputs": [],
   "source": [
    "df['DOY'] = df['Date'].dt.dayofyear"
   ]
  },
  {
   "cell_type": "code",
   "execution_count": 33,
   "metadata": {},
   "outputs": [
    {
     "name": "stdout",
     "output_type": "stream",
     "text": [
      "<class 'pandas.core.frame.DataFrame'>\n",
      "RangeIndex: 2030 entries, 0 to 2029\n",
      "Data columns (total 7 columns):\n",
      "Date        2030 non-null datetime64[ns]\n",
      "Comments    845 non-null object\n",
      "class1      2030 non-null object\n",
      "class2      56 non-null object\n",
      "class3      25 non-null object\n",
      "class4      7 non-null object\n",
      "DOY         2030 non-null int64\n",
      "dtypes: datetime64[ns](1), int64(1), object(5)\n",
      "memory usage: 111.1+ KB\n"
     ]
    }
   ],
   "source": [
    "df.info()"
   ]
  },
  {
   "cell_type": "code",
   "execution_count": 45,
   "metadata": {},
   "outputs": [
    {
     "name": "stdout",
     "output_type": "stream",
     "text": [
      "Date 0\n",
      "Comments 1185\n",
      "class1 0\n",
      "class2 1974\n",
      "class3 2005\n",
      "class4 2023\n",
      "DOY 0\n"
     ]
    }
   ],
   "source": [
    "class_name = []\n",
    "sums = []\n",
    "for i in df.columns:\n",
    "    print(i, df[i].isna().sum())\n",
    "    class_name.append(i)\n",
    "    sums.append(df[i].isna().sum())"
   ]
  },
  {
   "cell_type": "markdown",
   "metadata": {},
   "source": [
    "So there is close to 1200 rows that dont have any comments"
   ]
  },
  {
   "cell_type": "code",
   "execution_count": 47,
   "metadata": {},
   "outputs": [],
   "source": [
    "import matplotlib.pyplot as plt\n",
    "%matplotlib inline"
   ]
  },
  {
   "cell_type": "code",
   "execution_count": 48,
   "metadata": {},
   "outputs": [
    {
     "data": {
      "text/plain": [
       "<BarContainer object of 7 artists>"
      ]
     },
     "execution_count": 48,
     "metadata": {},
     "output_type": "execute_result"
    },
    {
     "data": {
      "image/png": "[encoded data removed]",
      "text/plain": [
       "<Figure size 432x288 with 1 Axes>"
      ]
     },
     "metadata": {
      "needs_background": "light"
     },
     "output_type": "display_data"
    }
   ],
   "source": [
    "plt.bar(class_name,sums)"
   ]
  },
  {
   "cell_type": "code",
   "execution_count": 50,
   "metadata": {},
   "outputs": [
    {
     "data": {
      "text/plain": [
       "Counter({'hiking': 1398,\n",
       "         '': 585,\n",
       "         'muddy': 3,\n",
       "         'snowshoeing': 15,\n",
       "         'walking': 8,\n",
       "         'scenic driving': 2,\n",
       "         'nature trips': 5,\n",
       "         'backpacking': 6,\n",
       "         'bird watching': 5,\n",
       "         'cross country skiing': 2,\n",
       "         'skiing': 1})"
      ]
     },
     "execution_count": 50,
     "metadata": {},
     "output_type": "execute_result"
    }
   ],
   "source": [
    "tags = Counter(df['class1'])\n",
    "tags"
   ]
  },
  {
   "cell_type": "code",
   "execution_count": 54,
   "metadata": {},
   "outputs": [
    {
     "data": {
      "image/png": "[encoded data removed]",
      "text/plain": [
       "<Figure size 432x288 with 1 Axes>"
      ]
     },
     "metadata": {
      "needs_background": "light"
     },
     "output_type": "display_data"
    }
   ],
   "source": [
    "plt.bar(list(tags.keys()),list(tags.values()))\n",
    "plt.xticks(rotation=90)\n",
    "plt.show()"
   ]
  },
  {
   "cell_type": "markdown",
   "metadata": {},
   "source": [
    "There is also 585 rows with no label."
   ]
  },
  {
   "cell_type": "markdown",
   "metadata": {},
   "source": [
    "We have two options here\n",
    "1. To remove these rows and just train a multi-class model with rows that have at least one label.\n",
    "2. Manual label these rows using the comments. "
   ]
  },
  {
   "cell_type": "code",
   "execution_count": null,
   "metadata": {},
   "outputs": [],
   "source": []
  }
 ],
 "metadata": {
  "kernelspec": {
   "display_name": "Python 3",
   "language": "python",
   "name": "python3"
  },
  "language_info": {
   "codemirror_mode": {
    "name": "ipython",
    "version": 3
   },
   "file_extension": ".py",
   "mimetype": "text/x-python",
   "name": "python",
   "nbconvert_exporter": "python",
   "pygments_lexer": "ipython3",
   "version": "3.7.4"
  }
 },
 "nbformat": 4,
 "nbformat_minor": 2
}
