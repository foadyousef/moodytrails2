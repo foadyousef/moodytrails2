{
 "cells": [
  {
   "cell_type": "code",
   "execution_count": 313,
   "metadata": {},
   "outputs": [
    {
     "ename": "TypeError",
     "evalue": "showwarning() missing 3 required positional arguments: 'category', 'filename', and 'lineno'",
     "output_type": "error",
     "traceback": [
      "\u001b[0;31m---------------------------------------------------------------------------\u001b[0m",
      "\u001b[0;31mTypeError\u001b[0m                                 Traceback (most recent call last)",
      "\u001b[0;32m<ipython-input-313-a2635c7564e2>\u001b[0m in \u001b[0;36m<module>\u001b[0;34m\u001b[0m\n\u001b[1;32m     10\u001b[0m \u001b[0;32mfrom\u001b[0m \u001b[0mtqdm\u001b[0m \u001b[0;32mimport\u001b[0m \u001b[0mtqdm\u001b[0m\u001b[0;34m\u001b[0m\u001b[0;34m\u001b[0m\u001b[0m\n\u001b[1;32m     11\u001b[0m \u001b[0;32mimport\u001b[0m \u001b[0mwarnings\u001b[0m\u001b[0;34m\u001b[0m\u001b[0;34m\u001b[0m\u001b[0m\n\u001b[0;32m---> 12\u001b[0;31m \u001b[0mwarnings\u001b[0m\u001b[0;34m.\u001b[0m\u001b[0mshowwarning\u001b[0m\u001b[0;34m(\u001b[0m\u001b[0;34m'ignorewarnings'\u001b[0m\u001b[0;34m)\u001b[0m\u001b[0;34m\u001b[0m\u001b[0;34m\u001b[0m\u001b[0m\n\u001b[0m\u001b[1;32m     13\u001b[0m \u001b[0;34m\u001b[0m\u001b[0m\n\u001b[1;32m     14\u001b[0m \u001b[0;31m# scilearn\u001b[0m\u001b[0;34m\u001b[0m\u001b[0;34m\u001b[0m\u001b[0;34m\u001b[0m\u001b[0m\n",
      "\u001b[0;31mTypeError\u001b[0m: showwarning() missing 3 required positional arguments: 'category', 'filename', and 'lineno'"
     ]
    }
   ],
   "source": [
    "import pandas as pd\n",
    "import numpy as np\n",
    "import matplotlib.pyplot as plt\n",
    "from collections import Counter\n",
    "import seaborn as sns\n",
    "import re\n",
    "import os\n",
    "import glob\n",
    "import nltk\n",
    "from tqdm import tqdm\n",
    "import warnings\n",
    "warnings.siml('ignorewarnings')\n",
    "\n",
    "# scilearn\n",
    "from sklearn.feature_extraction.text import TfidfVectorizer\n",
    "from sklearn.model_selection import train_test_split\n",
    "\n",
    "%matplotlib inline"
   ]
  },
  {
   "cell_type": "markdown",
   "metadata": {},
   "source": [
    "## The Goal\n",
    "The general goal of this EDA is to attempt to tag the trails with only comments from the user. Therefore, we will be cleaning the trail data to use only user entries that have a comment related to their experience on the trail. This comment will help to classify the condition that the trail is in for the future data entries by the user. \n",
    "\n",
    "The more cleaner way of doing this is to hand label all there entries and use that for classification. "
   ]
  },
  {
   "cell_type": "code",
   "execution_count": 260,
   "metadata": {},
   "outputs": [
    {
     "data": {
      "text/plain": [
       "['../Data/adams-canyon-trail.csv',\n",
       " '../Data/scout-falls-trail.csv',\n",
       " '../Data/dog-lake-via-big-water-trail.csv',\n",
       " '../Data/lake-catherine-via-brighton-lakes-trail.csv',\n",
       " '../Data/lake-desolation-mill-d-north-trail.csv',\n",
       " '../Data/centerville-canyon-via-deuel-creek-trail.csv',\n",
       " '../Data/desolation-trail-to-salt-lake-overlook.csv',\n",
       " '../Data/waterfall-canyon-trail.csv',\n",
       " '../Data/grandeur-peak-east-trail-from-church-fork.csv',\n",
       " '../Data/horsetail-falls-trail.csv',\n",
       " '../Data/donut-falls-trail.csv',\n",
       " '../Data/battle-creek-falls.csv',\n",
       " '../Data/mt-timpanogos-timpooneke-trail.csv',\n",
       " '../Data/willow-heights-trail.csv',\n",
       " '../Data/bells-canyon-trail-to-lower-falls.csv',\n",
       " '../Data/fifth-water-hot-springs-trail.csv',\n",
       " '../Data/ferguson-canyon-trail-to-upper-meadow.csv',\n",
       " '../Data/cecret-lake-trail.csv',\n",
       " '../Data/lake-mary-trail.csv',\n",
       " '../Data/heughs-canyon-trail.csv']"
      ]
     },
     "execution_count": 260,
     "metadata": {},
     "output_type": "execute_result"
    }
   ],
   "source": [
    "csvs = []\n",
    "for i in glob.glob(\"../Data/*.csv\", recursive=True):\n",
    "    csvs.append(i)\n",
    "\n",
    "csvs"
   ]
  },
  {
   "cell_type": "markdown",
   "metadata": {},
   "source": [
    "Import all the csvs!"
   ]
  },
  {
   "cell_type": "code",
   "execution_count": 261,
   "metadata": {},
   "outputs": [],
   "source": [
    "df = []\n",
    "for i in csvs:\n",
    "    ds = pd.read_csv(i)\n",
    "    df.append(ds)\n",
    "\n",
    "df = pd.concat((pd.read_csv(i) for i in csvs),axis=0, ignore_index=True, sort=False)"
   ]
  },
  {
   "cell_type": "code",
   "execution_count": 262,
   "metadata": {},
   "outputs": [
    {
     "data": {
      "text/html": [
       "<div>\n",
       "<style scoped>\n",
       "    .dataframe tbody tr th:only-of-type {\n",
       "        vertical-align: middle;\n",
       "    }\n",
       "\n",
       "    .dataframe tbody tr th {\n",
       "        vertical-align: top;\n",
       "    }\n",
       "\n",
       "    .dataframe thead th {\n",
       "        text-align: right;\n",
       "    }\n",
       "</style>\n",
       "<table border=\"1\" class=\"dataframe\">\n",
       "  <thead>\n",
       "    <tr style=\"text-align: right;\">\n",
       "      <th></th>\n",
       "      <th>Unnamed: 0</th>\n",
       "      <th>Date</th>\n",
       "      <th>Tags</th>\n",
       "      <th>Comments</th>\n",
       "      <th>Unnamed: 4</th>\n",
       "    </tr>\n",
       "  </thead>\n",
       "  <tbody>\n",
       "    <tr>\n",
       "      <td>0</td>\n",
       "      <td>0</td>\n",
       "      <td>2019-09-07</td>\n",
       "      <td>['hiking']</td>\n",
       "      <td>Love Adams , love the waterfall, initial switc...</td>\n",
       "      <td>NaN</td>\n",
       "    </tr>\n",
       "    <tr>\n",
       "      <td>1</td>\n",
       "      <td>1</td>\n",
       "      <td>2019-09-06</td>\n",
       "      <td>['hiking']</td>\n",
       "      <td>Hiked this today with our 4 and 6 year old. A ...</td>\n",
       "      <td>NaN</td>\n",
       "    </tr>\n",
       "    <tr>\n",
       "      <td>2</td>\n",
       "      <td>2</td>\n",
       "      <td>2019-09-04</td>\n",
       "      <td>['trail running', 'closed']</td>\n",
       "      <td>Currently closed because of the Snoqualmie fire.</td>\n",
       "      <td>NaN</td>\n",
       "    </tr>\n",
       "    <tr>\n",
       "      <td>3</td>\n",
       "      <td>3</td>\n",
       "      <td>2019-09-03</td>\n",
       "      <td>['hiking', 'bugs', 'scramble']</td>\n",
       "      <td>I did this trail on August 15th, 2019. It was ...</td>\n",
       "      <td>NaN</td>\n",
       "    </tr>\n",
       "    <tr>\n",
       "      <td>4</td>\n",
       "      <td>4</td>\n",
       "      <td>2019-09-02</td>\n",
       "      <td>['hiking']</td>\n",
       "      <td>The Sandy switch backs kinda kicks your butt i...</td>\n",
       "      <td>NaN</td>\n",
       "    </tr>\n",
       "  </tbody>\n",
       "</table>\n",
       "</div>"
      ],
      "text/plain": [
       "   Unnamed: 0        Date                            Tags  \\\n",
       "0           0  2019-09-07                      ['hiking']   \n",
       "1           1  2019-09-06                      ['hiking']   \n",
       "2           2  2019-09-04     ['trail running', 'closed']   \n",
       "3           3  2019-09-03  ['hiking', 'bugs', 'scramble']   \n",
       "4           4  2019-09-02                      ['hiking']   \n",
       "\n",
       "                                            Comments Unnamed: 4  \n",
       "0  Love Adams , love the waterfall, initial switc...        NaN  \n",
       "1  Hiked this today with our 4 and 6 year old. A ...        NaN  \n",
       "2   Currently closed because of the Snoqualmie fire.        NaN  \n",
       "3  I did this trail on August 15th, 2019. It was ...        NaN  \n",
       "4  The Sandy switch backs kinda kicks your butt i...        NaN  "
      ]
     },
     "execution_count": 262,
     "metadata": {},
     "output_type": "execute_result"
    }
   ],
   "source": [
    "df.head()"
   ]
  },
  {
   "cell_type": "markdown",
   "metadata": {},
   "source": [
    "Couple of columns that we dont need! Unnamed, Dates, Unnamed 4. Lets remove them. "
   ]
  },
  {
   "cell_type": "code",
   "execution_count": 263,
   "metadata": {},
   "outputs": [
    {
     "data": {
      "text/html": [
       "<div>\n",
       "<style scoped>\n",
       "    .dataframe tbody tr th:only-of-type {\n",
       "        vertical-align: middle;\n",
       "    }\n",
       "\n",
       "    .dataframe tbody tr th {\n",
       "        vertical-align: top;\n",
       "    }\n",
       "\n",
       "    .dataframe thead th {\n",
       "        text-align: right;\n",
       "    }\n",
       "</style>\n",
       "<table border=\"1\" class=\"dataframe\">\n",
       "  <thead>\n",
       "    <tr style=\"text-align: right;\">\n",
       "      <th></th>\n",
       "      <th>Tags</th>\n",
       "      <th>Comments</th>\n",
       "    </tr>\n",
       "  </thead>\n",
       "  <tbody>\n",
       "    <tr>\n",
       "      <td>0</td>\n",
       "      <td>['hiking']</td>\n",
       "      <td>Love Adams , love the waterfall, initial switc...</td>\n",
       "    </tr>\n",
       "    <tr>\n",
       "      <td>1</td>\n",
       "      <td>['hiking']</td>\n",
       "      <td>Hiked this today with our 4 and 6 year old. A ...</td>\n",
       "    </tr>\n",
       "    <tr>\n",
       "      <td>2</td>\n",
       "      <td>['trail running', 'closed']</td>\n",
       "      <td>Currently closed because of the Snoqualmie fire.</td>\n",
       "    </tr>\n",
       "    <tr>\n",
       "      <td>3</td>\n",
       "      <td>['hiking', 'bugs', 'scramble']</td>\n",
       "      <td>I did this trail on August 15th, 2019. It was ...</td>\n",
       "    </tr>\n",
       "    <tr>\n",
       "      <td>4</td>\n",
       "      <td>['hiking']</td>\n",
       "      <td>The Sandy switch backs kinda kicks your butt i...</td>\n",
       "    </tr>\n",
       "  </tbody>\n",
       "</table>\n",
       "</div>"
      ],
      "text/plain": [
       "                             Tags  \\\n",
       "0                      ['hiking']   \n",
       "1                      ['hiking']   \n",
       "2     ['trail running', 'closed']   \n",
       "3  ['hiking', 'bugs', 'scramble']   \n",
       "4                      ['hiking']   \n",
       "\n",
       "                                            Comments  \n",
       "0  Love Adams , love the waterfall, initial switc...  \n",
       "1  Hiked this today with our 4 and 6 year old. A ...  \n",
       "2   Currently closed because of the Snoqualmie fire.  \n",
       "3  I did this trail on August 15th, 2019. It was ...  \n",
       "4  The Sandy switch backs kinda kicks your butt i...  "
      ]
     },
     "execution_count": 263,
     "metadata": {},
     "output_type": "execute_result"
    }
   ],
   "source": [
    "# Drop the index column\n",
    "df = df.drop(['Unnamed: 0','Unnamed: 4', 'Date'], axis=1)\n",
    "df.head()"
   ]
  },
  {
   "cell_type": "code",
   "execution_count": 264,
   "metadata": {},
   "outputs": [
    {
     "name": "stdout",
     "output_type": "stream",
     "text": [
      "<class 'pandas.core.frame.DataFrame'>\n",
      "RangeIndex: 16608 entries, 0 to 16607\n",
      "Data columns (total 2 columns):\n",
      "Tags        16608 non-null object\n",
      "Comments    7252 non-null object\n",
      "dtypes: object(2)\n",
      "memory usage: 259.6+ KB\n"
     ]
    }
   ],
   "source": [
    "df.info()"
   ]
  },
  {
   "cell_type": "markdown",
   "metadata": {},
   "source": [
    "As it can be seen, some of the rows dont have any comments. Also, some of the Tags are empty and only hav a ''. Lets remove these rows for now. "
   ]
  },
  {
   "cell_type": "code",
   "execution_count": 265,
   "metadata": {},
   "outputs": [
    {
     "name": "stdout",
     "output_type": "stream",
     "text": [
      "(16608, 2)\n",
      "(7252, 2)\n"
     ]
    }
   ],
   "source": [
    "print(df.shape)\n",
    "clean_df = df[df['Comments'].notnull()]\n",
    "print(clean_df.shape)"
   ]
  },
  {
   "cell_type": "markdown",
   "metadata": {},
   "source": [
    "And empty tags will be removed next."
   ]
  },
  {
   "cell_type": "code",
   "execution_count": 266,
   "metadata": {},
   "outputs": [
    {
     "name": "stdout",
     "output_type": "stream",
     "text": [
      "(16608, 2)\n",
      "(4926, 2)\n"
     ]
    }
   ],
   "source": [
    "print(df.shape)\n",
    "clean_df = df[(df['Comments'].notnull())&(df['Tags'] != \"['']\")]\n",
    "print(clean_df.shape)"
   ]
  },
  {
   "cell_type": "markdown",
   "metadata": {},
   "source": [
    "Lets make the comment section a little more clean."
   ]
  },
  {
   "cell_type": "code",
   "execution_count": 267,
   "metadata": {},
   "outputs": [],
   "source": [
    "# remove the brackets and quatations\n",
    "def cleanit(text):\n",
    "    # removing the backslash-apostrophe\n",
    "    text = re.sub(\"\\'\", \"\", text)\n",
    "    # remove non alphabetical stuff\n",
    "    text = re.sub(\"[^a-zA-Z]\",\" \", text)\n",
    "    # remove the white spaces\n",
    "    text = ' '.join(text.split())\n",
    "    # all lowercase\n",
    "    text = text.lower()\n",
    "    return text"
   ]
  },
  {
   "cell_type": "code",
   "execution_count": 268,
   "metadata": {},
   "outputs": [
    {
     "name": "stderr",
     "output_type": "stream",
     "text": [
      "/home/fyousef/anaconda3/lib/python3.7/site-packages/ipykernel_launcher.py:1: SettingWithCopyWarning: \n",
      "A value is trying to be set on a copy of a slice from a DataFrame.\n",
      "Try using .loc[row_indexer,col_indexer] = value instead\n",
      "\n",
      "See the caveats in the documentation: http://pandas.pydata.org/pandas-docs/stable/user_guide/indexing.html#returning-a-view-versus-a-copy\n",
      "  \"\"\"Entry point for launching an IPython kernel.\n",
      "/home/fyousef/anaconda3/lib/python3.7/site-packages/ipykernel_launcher.py:2: SettingWithCopyWarning: \n",
      "A value is trying to be set on a copy of a slice from a DataFrame.\n",
      "Try using .loc[row_indexer,col_indexer] = value instead\n",
      "\n",
      "See the caveats in the documentation: http://pandas.pydata.org/pandas-docs/stable/user_guide/indexing.html#returning-a-view-versus-a-copy\n",
      "  \n",
      "/home/fyousef/anaconda3/lib/python3.7/site-packages/pandas/core/generic.py:5208: SettingWithCopyWarning: \n",
      "A value is trying to be set on a copy of a slice from a DataFrame.\n",
      "Try using .loc[row_indexer,col_indexer] = value instead\n",
      "\n",
      "See the caveats in the documentation: http://pandas.pydata.org/pandas-docs/stable/user_guide/indexing.html#returning-a-view-versus-a-copy\n",
      "  self[name] = value\n"
     ]
    }
   ],
   "source": [
    "clean_df['comments'] = clean_df['Comments'].apply(lambda x: cleanit(x))\n",
    "clean_df['tags'] = clean_df['Tags'].apply(lambda x: cleanit(x))\n",
    "\n",
    "# Finally, make a list of tags\n",
    "clean_df.tags = clean_df.tags.apply(lambda x: list(x.split()))"
   ]
  },
  {
   "cell_type": "code",
   "execution_count": 269,
   "metadata": {},
   "outputs": [
    {
     "name": "stdout",
     "output_type": "stream",
     "text": [
      "<class 'pandas.core.frame.DataFrame'>\n",
      "Int64Index: 4926 entries, 0 to 16294\n",
      "Data columns (total 4 columns):\n",
      "Tags        4926 non-null object\n",
      "Comments    4926 non-null object\n",
      "comments    4926 non-null object\n",
      "tags        4926 non-null object\n",
      "dtypes: object(4)\n",
      "memory usage: 192.4+ KB\n"
     ]
    }
   ],
   "source": [
    "clean_df.info()"
   ]
  },
  {
   "cell_type": "markdown",
   "metadata": {},
   "source": [
    "#### Exploring Tags after cleaning\n",
    "Let us explore the types of tags and their frequency in our data."
   ]
  },
  {
   "cell_type": "code",
   "execution_count": 270,
   "metadata": {},
   "outputs": [
    {
     "data": {
      "text/plain": [
       "43"
      ]
     },
     "execution_count": 270,
     "metadata": {},
     "output_type": "execute_result"
    }
   ],
   "source": [
    "all_tag = sum(clean_df.tags,[])\n",
    "len(set(all_tag))"
   ]
  },
  {
   "cell_type": "code",
   "execution_count": 271,
   "metadata": {},
   "outputs": [
    {
     "data": {
      "text/plain": [
       "FreqDist({'hiking': 4637, 'rocky': 262, 'muddy': 166, 'snow': 143, 'bugs': 110, 'scramble': 83, 'trail': 81, 'running': 66, 'backpacking': 54, 'walking': 38, ...})"
      ]
     },
     "execution_count": 271,
     "metadata": {},
     "output_type": "execute_result"
    }
   ],
   "source": [
    "all_tags = nltk.FreqDist(all_tag)\n",
    "all_tags"
   ]
  },
  {
   "cell_type": "code",
   "execution_count": 272,
   "metadata": {},
   "outputs": [],
   "source": [
    "gen_df = pd.DataFrame({'Tag':list(all_tags.keys()),'Count':list(all_tags.values())})"
   ]
  },
  {
   "cell_type": "code",
   "execution_count": 273,
   "metadata": {},
   "outputs": [
    {
     "data": {
      "text/html": [
       "<div>\n",
       "<style scoped>\n",
       "    .dataframe tbody tr th:only-of-type {\n",
       "        vertical-align: middle;\n",
       "    }\n",
       "\n",
       "    .dataframe tbody tr th {\n",
       "        vertical-align: top;\n",
       "    }\n",
       "\n",
       "    .dataframe thead th {\n",
       "        text-align: right;\n",
       "    }\n",
       "</style>\n",
       "<table border=\"1\" class=\"dataframe\">\n",
       "  <thead>\n",
       "    <tr style=\"text-align: right;\">\n",
       "      <th></th>\n",
       "      <th>Tag</th>\n",
       "      <th>Count</th>\n",
       "    </tr>\n",
       "  </thead>\n",
       "  <tbody>\n",
       "    <tr>\n",
       "      <td>0</td>\n",
       "      <td>hiking</td>\n",
       "      <td>4637</td>\n",
       "    </tr>\n",
       "    <tr>\n",
       "      <td>1</td>\n",
       "      <td>trail</td>\n",
       "      <td>81</td>\n",
       "    </tr>\n",
       "    <tr>\n",
       "      <td>2</td>\n",
       "      <td>running</td>\n",
       "      <td>66</td>\n",
       "    </tr>\n",
       "    <tr>\n",
       "      <td>3</td>\n",
       "      <td>closed</td>\n",
       "      <td>6</td>\n",
       "    </tr>\n",
       "    <tr>\n",
       "      <td>4</td>\n",
       "      <td>bugs</td>\n",
       "      <td>110</td>\n",
       "    </tr>\n",
       "  </tbody>\n",
       "</table>\n",
       "</div>"
      ],
      "text/plain": [
       "       Tag  Count\n",
       "0   hiking   4637\n",
       "1    trail     81\n",
       "2  running     66\n",
       "3   closed      6\n",
       "4     bugs    110"
      ]
     },
     "execution_count": 273,
     "metadata": {},
     "output_type": "execute_result"
    }
   ],
   "source": [
    "gen_df.head()"
   ]
  },
  {
   "cell_type": "code",
   "execution_count": 274,
   "metadata": {
    "scrolled": true
   },
   "outputs": [
    {
     "data": {
      "image/png": "[encoded data removed]",
      "text/plain": [
       "<Figure size 432x288 with 1 Axes>"
      ]
     },
     "metadata": {
      "needs_background": "light"
     },
     "output_type": "display_data"
    }
   ],
   "source": [
    "g = gen_df.nlargest(columns='Count', n=15)\n",
    "plt.figure(figsize=(6,4)) \n",
    "ax = sns.barplot(data = g, x = 'Count', y = 'Tag')\n",
    "\n",
    "\n",
    "plt.show()"
   ]
  },
  {
   "cell_type": "markdown",
   "metadata": {},
   "source": [
    "We realize that we have bit of an imbalanced data. Lets keep an eye on it for when we model them. "
   ]
  },
  {
   "cell_type": "code",
   "execution_count": 275,
   "metadata": {},
   "outputs": [],
   "source": [
    "from nltk.corpus import stopwords\n",
    "stop_words = set(stopwords.words('english'))"
   ]
  },
  {
   "cell_type": "code",
   "execution_count": 276,
   "metadata": {},
   "outputs": [],
   "source": [
    "def remove_stopwords(text):\n",
    "    no_SW = [w for w in text.split() if w not in stop_words]\n",
    "    return ' '.join(no_SW)"
   ]
  },
  {
   "cell_type": "code",
   "execution_count": 277,
   "metadata": {},
   "outputs": [
    {
     "name": "stderr",
     "output_type": "stream",
     "text": [
      "/home/fyousef/anaconda3/lib/python3.7/site-packages/ipykernel_launcher.py:1: SettingWithCopyWarning: \n",
      "A value is trying to be set on a copy of a slice from a DataFrame.\n",
      "Try using .loc[row_indexer,col_indexer] = value instead\n",
      "\n",
      "See the caveats in the documentation: http://pandas.pydata.org/pandas-docs/stable/user_guide/indexing.html#returning-a-view-versus-a-copy\n",
      "  \"\"\"Entry point for launching an IPython kernel.\n"
     ]
    }
   ],
   "source": [
    "clean_df['no_stopwords'] = clean_df['comments'].apply(lambda x: remove_stopwords(x))"
   ]
  },
  {
   "cell_type": "code",
   "execution_count": 278,
   "metadata": {},
   "outputs": [
    {
     "data": {
      "text/html": [
       "<div>\n",
       "<style scoped>\n",
       "    .dataframe tbody tr th:only-of-type {\n",
       "        vertical-align: middle;\n",
       "    }\n",
       "\n",
       "    .dataframe tbody tr th {\n",
       "        vertical-align: top;\n",
       "    }\n",
       "\n",
       "    .dataframe thead th {\n",
       "        text-align: right;\n",
       "    }\n",
       "</style>\n",
       "<table border=\"1\" class=\"dataframe\">\n",
       "  <thead>\n",
       "    <tr style=\"text-align: right;\">\n",
       "      <th></th>\n",
       "      <th>Tags</th>\n",
       "      <th>Comments</th>\n",
       "      <th>comments</th>\n",
       "      <th>tags</th>\n",
       "      <th>no_stopwords</th>\n",
       "    </tr>\n",
       "  </thead>\n",
       "  <tbody>\n",
       "    <tr>\n",
       "      <td>0</td>\n",
       "      <td>['hiking']</td>\n",
       "      <td>Love Adams , love the waterfall, initial switc...</td>\n",
       "      <td>love adams love the waterfall initial switchba...</td>\n",
       "      <td>[hiking]</td>\n",
       "      <td>love adams love waterfall initial switchbacks ...</td>\n",
       "    </tr>\n",
       "    <tr>\n",
       "      <td>1</td>\n",
       "      <td>['hiking']</td>\n",
       "      <td>Hiked this today with our 4 and 6 year old. A ...</td>\n",
       "      <td>hiked this today with our and year old a coupl...</td>\n",
       "      <td>[hiking]</td>\n",
       "      <td>hiked today year old couple tricky spots overa...</td>\n",
       "    </tr>\n",
       "    <tr>\n",
       "      <td>2</td>\n",
       "      <td>['trail running', 'closed']</td>\n",
       "      <td>Currently closed because of the Snoqualmie fire.</td>\n",
       "      <td>currently closed because of the snoqualmie fire</td>\n",
       "      <td>[trail, running, closed]</td>\n",
       "      <td>currently closed snoqualmie fire</td>\n",
       "    </tr>\n",
       "    <tr>\n",
       "      <td>3</td>\n",
       "      <td>['hiking', 'bugs', 'scramble']</td>\n",
       "      <td>I did this trail on August 15th, 2019. It was ...</td>\n",
       "      <td>i did this trail on august th it was described...</td>\n",
       "      <td>[hiking, bugs, scramble]</td>\n",
       "      <td>trail august th described much difficult actua...</td>\n",
       "    </tr>\n",
       "    <tr>\n",
       "      <td>4</td>\n",
       "      <td>['hiking']</td>\n",
       "      <td>The Sandy switch backs kinda kicks your butt i...</td>\n",
       "      <td>the sandy switch backs kinda kicks your butt i...</td>\n",
       "      <td>[hiking]</td>\n",
       "      <td>sandy switch backs kinda kicks butt beginning ...</td>\n",
       "    </tr>\n",
       "  </tbody>\n",
       "</table>\n",
       "</div>"
      ],
      "text/plain": [
       "                             Tags  \\\n",
       "0                      ['hiking']   \n",
       "1                      ['hiking']   \n",
       "2     ['trail running', 'closed']   \n",
       "3  ['hiking', 'bugs', 'scramble']   \n",
       "4                      ['hiking']   \n",
       "\n",
       "                                            Comments  \\\n",
       "0  Love Adams , love the waterfall, initial switc...   \n",
       "1  Hiked this today with our 4 and 6 year old. A ...   \n",
       "2   Currently closed because of the Snoqualmie fire.   \n",
       "3  I did this trail on August 15th, 2019. It was ...   \n",
       "4  The Sandy switch backs kinda kicks your butt i...   \n",
       "\n",
       "                                            comments  \\\n",
       "0  love adams love the waterfall initial switchba...   \n",
       "1  hiked this today with our and year old a coupl...   \n",
       "2    currently closed because of the snoqualmie fire   \n",
       "3  i did this trail on august th it was described...   \n",
       "4  the sandy switch backs kinda kicks your butt i...   \n",
       "\n",
       "                       tags                                       no_stopwords  \n",
       "0                  [hiking]  love adams love waterfall initial switchbacks ...  \n",
       "1                  [hiking]  hiked today year old couple tricky spots overa...  \n",
       "2  [trail, running, closed]                   currently closed snoqualmie fire  \n",
       "3  [hiking, bugs, scramble]  trail august th described much difficult actua...  \n",
       "4                  [hiking]  sandy switch backs kinda kicks butt beginning ...  "
      ]
     },
     "execution_count": 278,
     "metadata": {},
     "output_type": "execute_result"
    }
   ],
   "source": [
    "clean_df.head()"
   ]
  },
  {
   "cell_type": "code",
   "execution_count": 279,
   "metadata": {},
   "outputs": [],
   "source": [
    "def freq_words(x, terms = 30): \n",
    "    all_words = ' '.join([text for text in x]) \n",
    "    all_words = all_words.split() \n",
    "    fdist = nltk.FreqDist(all_words) \n",
    "    words_df = pd.DataFrame({'word':list(fdist.keys()), 'count':list(fdist.values())}) \n",
    "    \n",
    "    # selecting top 20 most frequent words\n",
    "    d = words_df.nlargest(columns=\"count\", n = terms) \n",
    "    \n",
    "    # visualize words and frequencies\n",
    "    plt.figure(figsize=(12,15)) \n",
    "    ax = sns.barplot(data=d, x= \"count\", y = \"word\") \n",
    "    ax.set(ylabel = 'Word') \n",
    "    plt.show()"
   ]
  },
  {
   "cell_type": "code",
   "execution_count": 280,
   "metadata": {},
   "outputs": [
    {
     "data": {
      "image/png": "[encoded data removed]",
      "text/plain": [
       "<Figure size 864x1080 with 1 Axes>"
      ]
     },
     "metadata": {
      "needs_background": "light"
     },
     "output_type": "display_data"
    }
   ],
   "source": [
    "freq_words(clean_df['no_stopwords'], 100)"
   ]
  },
  {
   "cell_type": "markdown",
   "metadata": {},
   "source": [
    "## Converting Text to Features"
   ]
  },
  {
   "cell_type": "code",
   "execution_count": 281,
   "metadata": {},
   "outputs": [],
   "source": [
    "from sklearn.preprocessing import MultiLabelBinarizer"
   ]
  },
  {
   "cell_type": "code",
   "execution_count": 282,
   "metadata": {},
   "outputs": [
    {
     "data": {
      "text/plain": [
       "MultiLabelBinarizer(classes=None, sparse_output=False)"
      ]
     },
     "execution_count": 282,
     "metadata": {},
     "output_type": "execute_result"
    }
   ],
   "source": [
    "multilabel_bin = MultiLabelBinarizer()\n",
    "multilabel_bin.fit(clean_df['tags'])"
   ]
  },
  {
   "cell_type": "code",
   "execution_count": 283,
   "metadata": {},
   "outputs": [],
   "source": [
    "y = multilabel_bin.transform(clean_df['tags'])"
   ]
  },
  {
   "cell_type": "code",
   "execution_count": null,
   "metadata": {},
   "outputs": [],
   "source": []
  },
  {
   "cell_type": "code",
   "execution_count": 284,
   "metadata": {},
   "outputs": [],
   "source": [
    "tfidf_vectorizer = TfidfVectorizer(max_df=0.8, max_features=10000)"
   ]
  },
  {
   "cell_type": "code",
   "execution_count": 285,
   "metadata": {},
   "outputs": [],
   "source": [
    "xtrain, xval, ytrain, yval = train_test_split(clean_df['no_stopwords'], y, test_size=0.2, random_state=9)"
   ]
  },
  {
   "cell_type": "code",
   "execution_count": 286,
   "metadata": {},
   "outputs": [],
   "source": [
    "# create TF-IDF features\n",
    "xtrain_tfidf = tfidf_vectorizer.fit_transform(xtrain)\n",
    "xval_tfidf = tfidf_vectorizer.transform(xval)"
   ]
  },
  {
   "cell_type": "code",
   "execution_count": 287,
   "metadata": {},
   "outputs": [],
   "source": [
    "from sklearn.linear_model import LogisticRegression\n",
    "\n",
    "# Binary Relevance\n",
    "from sklearn.multiclass import OneVsRestClassifier\n",
    "\n",
    "# Performance metric\n",
    "from sklearn.metrics import f1_score"
   ]
  },
  {
   "cell_type": "code",
   "execution_count": 288,
   "metadata": {},
   "outputs": [],
   "source": [
    "lr = LogisticRegression()\n",
    "clf = OneVsRestClassifier(lr)"
   ]
  },
  {
   "cell_type": "code",
   "execution_count": 289,
   "metadata": {},
   "outputs": [
    {
     "name": "stderr",
     "output_type": "stream",
     "text": [
      "/home/fyousef/anaconda3/lib/python3.7/site-packages/sklearn/multiclass.py:75: UserWarning: Label not 15 is present in all training examples.\n",
      "  str(classes[c]))\n",
      "/home/fyousef/anaconda3/lib/python3.7/site-packages/sklearn/multiclass.py:75: UserWarning: Label not 26 is present in all training examples.\n",
      "  str(classes[c]))\n",
      "/home/fyousef/anaconda3/lib/python3.7/site-packages/sklearn/multiclass.py:75: UserWarning: Label not 27 is present in all training examples.\n",
      "  str(classes[c]))\n"
     ]
    },
    {
     "data": {
      "text/plain": [
       "OneVsRestClassifier(estimator=LogisticRegression(C=1.0, class_weight=None,\n",
       "                                                 dual=False, fit_intercept=True,\n",
       "                                                 intercept_scaling=1,\n",
       "                                                 l1_ratio=None, max_iter=100,\n",
       "                                                 multi_class='auto',\n",
       "                                                 n_jobs=None, penalty='l2',\n",
       "                                                 random_state=None,\n",
       "                                                 solver='lbfgs', tol=0.0001,\n",
       "                                                 verbose=0, warm_start=False),\n",
       "                    n_jobs=None)"
      ]
     },
     "execution_count": 289,
     "metadata": {},
     "output_type": "execute_result"
    }
   ],
   "source": [
    "# fit model on train data\n",
    "clf.fit(xtrain_tfidf, ytrain)"
   ]
  },
  {
   "cell_type": "code",
   "execution_count": 290,
   "metadata": {},
   "outputs": [],
   "source": [
    "# make predictions for validation set\n",
    "y_pred = clf.predict(xval_tfidf)"
   ]
  },
  {
   "cell_type": "code",
   "execution_count": 291,
   "metadata": {},
   "outputs": [
    {
     "data": {
      "text/plain": [
       "array([0, 0, 0, 0, 0, 0, 0, 0, 0, 0, 0, 0, 0, 0, 1, 0, 0, 0, 0, 0, 0, 0,\n",
       "       0, 0, 0, 0, 0, 0, 0, 0, 0, 0, 0, 0, 0, 0, 0, 0, 0, 0, 0, 0, 0])"
      ]
     },
     "execution_count": 291,
     "metadata": {},
     "output_type": "execute_result"
    }
   ],
   "source": [
    "y_pred[3]"
   ]
  },
  {
   "cell_type": "code",
   "execution_count": 292,
   "metadata": {},
   "outputs": [
    {
     "data": {
      "text/plain": [
       "('hiking',)"
      ]
     },
     "execution_count": 292,
     "metadata": {},
     "output_type": "execute_result"
    }
   ],
   "source": [
    "multilabel_bin.inverse_transform(y_pred)[3]"
   ]
  },
  {
   "cell_type": "code",
   "execution_count": 293,
   "metadata": {},
   "outputs": [
    {
     "data": {
      "text/plain": [
       "0.848234754699679"
      ]
     },
     "execution_count": 293,
     "metadata": {},
     "output_type": "execute_result"
    }
   ],
   "source": [
    "# evaluate performance\n",
    "f1_score(yval, y_pred, average=\"micro\")"
   ]
  },
  {
   "cell_type": "code",
   "execution_count": 294,
   "metadata": {},
   "outputs": [],
   "source": [
    "# predict probabilities\n",
    "y_pred_prob = clf.predict_proba(xval_tfidf)"
   ]
  },
  {
   "cell_type": "code",
   "execution_count": 295,
   "metadata": {},
   "outputs": [],
   "source": [
    "t = 0.3 # threshold value\n",
    "y_pred_new = (y_pred_prob >= t).astype(int)"
   ]
  },
  {
   "cell_type": "code",
   "execution_count": 296,
   "metadata": {},
   "outputs": [
    {
     "data": {
      "text/plain": [
       "0.847985347985348"
      ]
     },
     "execution_count": 296,
     "metadata": {},
     "output_type": "execute_result"
    }
   ],
   "source": [
    "# evaluate performance\n",
    "f1_score(yval, y_pred_new, average=\"micro\")"
   ]
  },
  {
   "cell_type": "markdown",
   "metadata": {},
   "source": [
    "You might have noticed that the dataset is super biased to predict hiking. One way to fix this is to down-sample the comments that are just labeled with hiking. and re run the model."
   ]
  },
  {
   "cell_type": "code",
   "execution_count": 297,
   "metadata": {},
   "outputs": [
    {
     "data": {
      "text/plain": [
       "[hiking]                                         4151\n",
       "[hiking, rocky]                                    92\n",
       "[trail, running]                                   65\n",
       "[backpacking]                                      53\n",
       "[hiking, snow]                                     52\n",
       "                                                 ... \n",
       "[skiing]                                            1\n",
       "[muddy, rocky, snow]                                1\n",
       "[hiking, over, grown, rocky, scramble]              1\n",
       "[hiking, bridge, out, muddy, rocky, scramble]       1\n",
       "[hiking, over, grown, scramble]                     1\n",
       "Name: tags, Length: 106, dtype: int64"
      ]
     },
     "execution_count": 297,
     "metadata": {},
     "output_type": "execute_result"
    }
   ],
   "source": [
    "clean_df['tags'].value_counts()"
   ]
  },
  {
   "cell_type": "code",
   "execution_count": 298,
   "metadata": {},
   "outputs": [
    {
     "data": {
      "text/html": [
       "<div>\n",
       "<style scoped>\n",
       "    .dataframe tbody tr th:only-of-type {\n",
       "        vertical-align: middle;\n",
       "    }\n",
       "\n",
       "    .dataframe tbody tr th {\n",
       "        vertical-align: top;\n",
       "    }\n",
       "\n",
       "    .dataframe thead th {\n",
       "        text-align: right;\n",
       "    }\n",
       "</style>\n",
       "<table border=\"1\" class=\"dataframe\">\n",
       "  <thead>\n",
       "    <tr style=\"text-align: right;\">\n",
       "      <th></th>\n",
       "      <th>Tags</th>\n",
       "      <th>Comments</th>\n",
       "      <th>comments</th>\n",
       "      <th>tags</th>\n",
       "      <th>no_stopwords</th>\n",
       "    </tr>\n",
       "  </thead>\n",
       "  <tbody>\n",
       "    <tr>\n",
       "      <td>0</td>\n",
       "      <td>['hiking']</td>\n",
       "      <td>Love Adams , love the waterfall, initial switc...</td>\n",
       "      <td>love adams love the waterfall initial switchba...</td>\n",
       "      <td>[hiking]</td>\n",
       "      <td>love adams love waterfall initial switchbacks ...</td>\n",
       "    </tr>\n",
       "    <tr>\n",
       "      <td>1</td>\n",
       "      <td>['hiking']</td>\n",
       "      <td>Hiked this today with our 4 and 6 year old. A ...</td>\n",
       "      <td>hiked this today with our and year old a coupl...</td>\n",
       "      <td>[hiking]</td>\n",
       "      <td>hiked today year old couple tricky spots overa...</td>\n",
       "    </tr>\n",
       "    <tr>\n",
       "      <td>2</td>\n",
       "      <td>['trail running', 'closed']</td>\n",
       "      <td>Currently closed because of the Snoqualmie fire.</td>\n",
       "      <td>currently closed because of the snoqualmie fire</td>\n",
       "      <td>[trail, running, closed]</td>\n",
       "      <td>currently closed snoqualmie fire</td>\n",
       "    </tr>\n",
       "    <tr>\n",
       "      <td>3</td>\n",
       "      <td>['hiking', 'bugs', 'scramble']</td>\n",
       "      <td>I did this trail on August 15th, 2019. It was ...</td>\n",
       "      <td>i did this trail on august th it was described...</td>\n",
       "      <td>[hiking, bugs, scramble]</td>\n",
       "      <td>trail august th described much difficult actua...</td>\n",
       "    </tr>\n",
       "    <tr>\n",
       "      <td>4</td>\n",
       "      <td>['hiking']</td>\n",
       "      <td>The Sandy switch backs kinda kicks your butt i...</td>\n",
       "      <td>the sandy switch backs kinda kicks your butt i...</td>\n",
       "      <td>[hiking]</td>\n",
       "      <td>sandy switch backs kinda kicks butt beginning ...</td>\n",
       "    </tr>\n",
       "  </tbody>\n",
       "</table>\n",
       "</div>"
      ],
      "text/plain": [
       "                             Tags  \\\n",
       "0                      ['hiking']   \n",
       "1                      ['hiking']   \n",
       "2     ['trail running', 'closed']   \n",
       "3  ['hiking', 'bugs', 'scramble']   \n",
       "4                      ['hiking']   \n",
       "\n",
       "                                            Comments  \\\n",
       "0  Love Adams , love the waterfall, initial switc...   \n",
       "1  Hiked this today with our 4 and 6 year old. A ...   \n",
       "2   Currently closed because of the Snoqualmie fire.   \n",
       "3  I did this trail on August 15th, 2019. It was ...   \n",
       "4  The Sandy switch backs kinda kicks your butt i...   \n",
       "\n",
       "                                            comments  \\\n",
       "0  love adams love the waterfall initial switchba...   \n",
       "1  hiked this today with our and year old a coupl...   \n",
       "2    currently closed because of the snoqualmie fire   \n",
       "3  i did this trail on august th it was described...   \n",
       "4  the sandy switch backs kinda kicks your butt i...   \n",
       "\n",
       "                       tags                                       no_stopwords  \n",
       "0                  [hiking]  love adams love waterfall initial switchbacks ...  \n",
       "1                  [hiking]  hiked today year old couple tricky spots overa...  \n",
       "2  [trail, running, closed]                   currently closed snoqualmie fire  \n",
       "3  [hiking, bugs, scramble]  trail august th described much difficult actua...  \n",
       "4                  [hiking]  sandy switch backs kinda kicks butt beginning ...  "
      ]
     },
     "execution_count": 298,
     "metadata": {},
     "output_type": "execute_result"
    }
   ],
   "source": [
    "clean_df.head()"
   ]
  },
  {
   "cell_type": "code",
   "execution_count": 299,
   "metadata": {},
   "outputs": [
    {
     "name": "stdout",
     "output_type": "stream",
     "text": [
      "(4926, 5)\n",
      "(289, 5)\n",
      "(600, 5)\n"
     ]
    }
   ],
   "source": [
    "print(clean_df.shape)\n",
    "selection = ['hiking']\n",
    "mask = clean_df.tags.apply(lambda x: any(item for item in selection if item not in x))\n",
    "clean1_df = clean_df[mask]\n",
    "print(clean1_df.shape)\n",
    "\n",
    "# select just hiking and only grab 289 sample\n",
    "mask = clean_df.tags.apply(lambda x: any(item for item in selection if item in x))\n",
    "clean2_df = clean_df[mask]\n",
    "clean2_df = clean2_df.sample(n=600)\n",
    "print(clean2_df.shape)"
   ]
  },
  {
   "cell_type": "markdown",
   "metadata": {},
   "source": [
    "Merge the two datasets below."
   ]
  },
  {
   "cell_type": "code",
   "execution_count": 300,
   "metadata": {},
   "outputs": [
    {
     "name": "stdout",
     "output_type": "stream",
     "text": [
      "(889, 5)\n"
     ]
    },
    {
     "data": {
      "text/html": [
       "<div>\n",
       "<style scoped>\n",
       "    .dataframe tbody tr th:only-of-type {\n",
       "        vertical-align: middle;\n",
       "    }\n",
       "\n",
       "    .dataframe tbody tr th {\n",
       "        vertical-align: top;\n",
       "    }\n",
       "\n",
       "    .dataframe thead th {\n",
       "        text-align: right;\n",
       "    }\n",
       "</style>\n",
       "<table border=\"1\" class=\"dataframe\">\n",
       "  <thead>\n",
       "    <tr style=\"text-align: right;\">\n",
       "      <th></th>\n",
       "      <th>Tags</th>\n",
       "      <th>Comments</th>\n",
       "      <th>comments</th>\n",
       "      <th>tags</th>\n",
       "      <th>no_stopwords</th>\n",
       "    </tr>\n",
       "  </thead>\n",
       "  <tbody>\n",
       "    <tr>\n",
       "      <td>2</td>\n",
       "      <td>['trail running', 'closed']</td>\n",
       "      <td>Currently closed because of the Snoqualmie fire.</td>\n",
       "      <td>currently closed because of the snoqualmie fire</td>\n",
       "      <td>[trail, running, closed]</td>\n",
       "      <td>currently closed snoqualmie fire</td>\n",
       "    </tr>\n",
       "    <tr>\n",
       "      <td>94</td>\n",
       "      <td>['rocky']</td>\n",
       "      <td>was way fun, took us about 2 1/2 hours, prepar...</td>\n",
       "      <td>was way fun took us about hours prepare to get...</td>\n",
       "      <td>[rocky]</td>\n",
       "      <td>way fun took us hours prepare get wet feet</td>\n",
       "    </tr>\n",
       "    <tr>\n",
       "      <td>99</td>\n",
       "      <td>['bugs', 'muddy', 'washed out']</td>\n",
       "      <td>Great trail, beautiful waterfalls. The water i...</td>\n",
       "      <td>great trail beautiful waterfalls the water is ...</td>\n",
       "      <td>[bugs, muddy, washed, out]</td>\n",
       "      <td>great trail beautiful waterfalls water high do...</td>\n",
       "    </tr>\n",
       "    <tr>\n",
       "      <td>126</td>\n",
       "      <td>['muddy', 'scramble', 'snow']</td>\n",
       "      <td>Took the kids for a quick, spring break hike. ...</td>\n",
       "      <td>took the kids for a quick spring break hike st...</td>\n",
       "      <td>[muddy, scramble, snow]</td>\n",
       "      <td>took kids quick spring break hike still quite ...</td>\n",
       "    </tr>\n",
       "    <tr>\n",
       "      <td>153</td>\n",
       "      <td>['trail running']</td>\n",
       "      <td>Great hike / trail run. 3.9 miles from the Par...</td>\n",
       "      <td>great hike trail run miles from the parking lo...</td>\n",
       "      <td>[trail, running]</td>\n",
       "      <td>great hike trail run miles parking lot hours g...</td>\n",
       "    </tr>\n",
       "  </tbody>\n",
       "</table>\n",
       "</div>"
      ],
      "text/plain": [
       "                                Tags  \\\n",
       "2        ['trail running', 'closed']   \n",
       "94                         ['rocky']   \n",
       "99   ['bugs', 'muddy', 'washed out']   \n",
       "126    ['muddy', 'scramble', 'snow']   \n",
       "153                ['trail running']   \n",
       "\n",
       "                                              Comments  \\\n",
       "2     Currently closed because of the Snoqualmie fire.   \n",
       "94   was way fun, took us about 2 1/2 hours, prepar...   \n",
       "99   Great trail, beautiful waterfalls. The water i...   \n",
       "126  Took the kids for a quick, spring break hike. ...   \n",
       "153  Great hike / trail run. 3.9 miles from the Par...   \n",
       "\n",
       "                                              comments  \\\n",
       "2      currently closed because of the snoqualmie fire   \n",
       "94   was way fun took us about hours prepare to get...   \n",
       "99   great trail beautiful waterfalls the water is ...   \n",
       "126  took the kids for a quick spring break hike st...   \n",
       "153  great hike trail run miles from the parking lo...   \n",
       "\n",
       "                           tags  \\\n",
       "2      [trail, running, closed]   \n",
       "94                      [rocky]   \n",
       "99   [bugs, muddy, washed, out]   \n",
       "126     [muddy, scramble, snow]   \n",
       "153            [trail, running]   \n",
       "\n",
       "                                          no_stopwords  \n",
       "2                     currently closed snoqualmie fire  \n",
       "94          way fun took us hours prepare get wet feet  \n",
       "99   great trail beautiful waterfalls water high do...  \n",
       "126  took kids quick spring break hike still quite ...  \n",
       "153  great hike trail run miles parking lot hours g...  "
      ]
     },
     "execution_count": 300,
     "metadata": {},
     "output_type": "execute_result"
    }
   ],
   "source": [
    "cdf = clean1_df.append(clean2_df)\n",
    "print(cdf.shape)\n",
    "cdf.head()"
   ]
  },
  {
   "cell_type": "markdown",
   "metadata": {},
   "source": [
    "We are ready to train the model again."
   ]
  },
  {
   "cell_type": "code",
   "execution_count": 301,
   "metadata": {},
   "outputs": [],
   "source": [
    "from sklearn.preprocessing import MultiLabelBinarizer"
   ]
  },
  {
   "cell_type": "code",
   "execution_count": 302,
   "metadata": {},
   "outputs": [],
   "source": [
    "multilabel_bin = MultiLabelBinarizer()\n",
    "multilabel_bin.fit(cdf['tags'])\n",
    "\n",
    "y = multilabel_bin.transform(cdf['tags'])\n",
    "\n",
    "tfidf_vectorizer = TfidfVectorizer(max_df=0.8, max_features=10000)"
   ]
  },
  {
   "cell_type": "code",
   "execution_count": 303,
   "metadata": {},
   "outputs": [],
   "source": [
    "xtrain, xval, ytrain, yval = train_test_split(cdf['no_stopwords'], y, test_size=0.2, random_state=9)\n",
    "\n",
    "# create TF-IDF features\n",
    "xtrain_tfidf = tfidf_vectorizer.fit_transform(xtrain)\n",
    "xval_tfidf = tfidf_vectorizer.transform(xval)"
   ]
  },
  {
   "cell_type": "code",
   "execution_count": 304,
   "metadata": {},
   "outputs": [],
   "source": [
    "from sklearn.linear_model import LogisticRegression\n",
    "\n",
    "# Binary Relevance\n",
    "from sklearn.multiclass import OneVsRestClassifier\n",
    "\n",
    "# Performance metric\n",
    "from sklearn.metrics import f1_score"
   ]
  },
  {
   "cell_type": "code",
   "execution_count": 305,
   "metadata": {},
   "outputs": [
    {
     "name": "stderr",
     "output_type": "stream",
     "text": [
      "/home/fyousef/anaconda3/lib/python3.7/site-packages/sklearn/multiclass.py:75: UserWarning: Label not 11 is present in all training examples.\n",
      "  str(classes[c]))\n",
      "/home/fyousef/anaconda3/lib/python3.7/site-packages/sklearn/multiclass.py:75: UserWarning: Label not 12 is present in all training examples.\n",
      "  str(classes[c]))\n",
      "/home/fyousef/anaconda3/lib/python3.7/site-packages/sklearn/multiclass.py:75: UserWarning: Label not 21 is present in all training examples.\n",
      "  str(classes[c]))\n"
     ]
    },
    {
     "data": {
      "text/plain": [
       "OneVsRestClassifier(estimator=LogisticRegression(C=1.0, class_weight=None,\n",
       "                                                 dual=False, fit_intercept=True,\n",
       "                                                 intercept_scaling=1,\n",
       "                                                 l1_ratio=None, max_iter=100,\n",
       "                                                 multi_class='auto',\n",
       "                                                 n_jobs=None, penalty='l2',\n",
       "                                                 random_state=None,\n",
       "                                                 solver='lbfgs', tol=0.0001,\n",
       "                                                 verbose=0, warm_start=False),\n",
       "                    n_jobs=None)"
      ]
     },
     "execution_count": 305,
     "metadata": {},
     "output_type": "execute_result"
    }
   ],
   "source": [
    "lr = LogisticRegression()\n",
    "clf = OneVsRestClassifier(lr)\n",
    "\n",
    "# fit model on train data\n",
    "clf.fit(xtrain_tfidf, ytrain)"
   ]
  },
  {
   "cell_type": "code",
   "execution_count": 306,
   "metadata": {},
   "outputs": [],
   "source": [
    "# make predictions for validation set\n",
    "y_pred = clf.predict(xval_tfidf)"
   ]
  },
  {
   "cell_type": "code",
   "execution_count": 307,
   "metadata": {},
   "outputs": [
    {
     "data": {
      "text/plain": [
       "array([0, 0, 0, 0, 0, 0, 0, 0, 0, 0, 0, 0, 0, 1, 0, 0, 0, 0, 0, 0, 0, 0,\n",
       "       0, 0, 0, 0, 0, 0, 0, 0, 0, 0, 0, 0, 0, 0, 0, 0, 0, 0])"
      ]
     },
     "execution_count": 307,
     "metadata": {},
     "output_type": "execute_result"
    }
   ],
   "source": [
    "y_pred[3]"
   ]
  },
  {
   "cell_type": "code",
   "execution_count": 308,
   "metadata": {},
   "outputs": [
    {
     "data": {
      "text/plain": [
       "('hiking',)"
      ]
     },
     "execution_count": 308,
     "metadata": {},
     "output_type": "execute_result"
    }
   ],
   "source": [
    "multilabel_bin.inverse_transform(y_pred)[3]"
   ]
  },
  {
   "cell_type": "code",
   "execution_count": 309,
   "metadata": {},
   "outputs": [
    {
     "data": {
      "text/plain": [
       "0.5849056603773585"
      ]
     },
     "execution_count": 309,
     "metadata": {},
     "output_type": "execute_result"
    }
   ],
   "source": [
    "# evaluate performance\n",
    "f1_score(yval, y_pred, average=\"micro\")"
   ]
  },
  {
   "cell_type": "code",
   "execution_count": 310,
   "metadata": {},
   "outputs": [],
   "source": [
    "# predict probabilities\n",
    "y_pred_prob = clf.predict_proba(xval_tfidf)"
   ]
  },
  {
   "cell_type": "code",
   "execution_count": 311,
   "metadata": {},
   "outputs": [],
   "source": [
    "t = 0.3 # threshold value\n",
    "y_pred_new = (y_pred_prob >= t).astype(int)"
   ]
  },
  {
   "cell_type": "code",
   "execution_count": 312,
   "metadata": {},
   "outputs": [
    {
     "data": {
      "text/plain": [
       "0.5807962529274004"
      ]
     },
     "execution_count": 312,
     "metadata": {},
     "output_type": "execute_result"
    }
   ],
   "source": [
    "# evaluate performance\n",
    "f1_score(yval, y_pred_new, average=\"micro\")"
   ]
  }
 ],
 "metadata": {
  "kernelspec": {
   "display_name": "Python 3",
   "language": "python",
   "name": "python3"
  },
  "language_info": {
   "codemirror_mode": {
    "name": "ipython",
    "version": 3
   },
   "file_extension": ".py",
   "mimetype": "text/x-python",
   "name": "python",
   "nbconvert_exporter": "python",
   "pygments_lexer": "ipython3",
   "version": "3.7.4"
  }
 },
 "nbformat": 4,
 "nbformat_minor": 2
}
