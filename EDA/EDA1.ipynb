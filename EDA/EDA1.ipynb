{
 "cells": [
  {
   "cell_type": "code",
   "execution_count": 82,
   "metadata": {},
   "outputs": [],
   "source": [
    "import pandas as pd\n",
    "import numpy as np\n",
    "import matplotlib.pyplot as plt\n",
    "from collections import Counter\n",
    "import re\n",
    "import os\n",
    "import glob\n",
    "\n",
    "%matplotlib inline"
   ]
  },
  {
   "cell_type": "markdown",
   "metadata": {},
   "source": [
    "## The Goal\n",
    "The general goal of this EDA is to attempt to tag the trails with only comments from the user. Therefore, we will be cleaning the trail data to use only user entries that have a comment related to their experience on the trail. This comment will help to classify the condition that the trail is in for the future data entries by the user. \n",
    "\n",
    "The more cleaner way of doing this is to hand label all there entries and use that for classification. "
   ]
  },
  {
   "cell_type": "code",
   "execution_count": 104,
   "metadata": {},
   "outputs": [
    {
     "data": {
      "text/plain": [
       "['../Data/adams-canyon-trail.csv',\n",
       " '../Data/scout-falls-trail.csv',\n",
       " '../Data/dog-lake-via-big-water-trail.csv',\n",
       " '../Data/lake-catherine-via-brighton-lakes-trail.csv',\n",
       " '../Data/lake-desolation-mill-d-north-trail.csv',\n",
       " '../Data/centerville-canyon-via-deuel-creek-trail.csv',\n",
       " '../Data/desolation-trail-to-salt-lake-overlook.csv',\n",
       " '../Data/waterfall-canyon-trail.csv',\n",
       " '../Data/grandeur-peak-east-trail-from-church-fork.csv',\n",
       " '../Data/horsetail-falls-trail.csv',\n",
       " '../Data/donut-falls-trail.csv',\n",
       " '../Data/battle-creek-falls.csv',\n",
       " '../Data/mt-timpanogos-timpooneke-trail.csv',\n",
       " '../Data/willow-heights-trail.csv',\n",
       " '../Data/bells-canyon-trail-to-lower-falls.csv',\n",
       " '../Data/fifth-water-hot-springs-trail.csv',\n",
       " '../Data/ferguson-canyon-trail-to-upper-meadow.csv',\n",
       " '../Data/cecret-lake-trail.csv',\n",
       " '../Data/lake-mary-trail.csv',\n",
       " '../Data/heughs-canyon-trail.csv']"
      ]
     },
     "execution_count": 104,
     "metadata": {},
     "output_type": "execute_result"
    }
   ],
   "source": [
    "csvs = []\n",
    "for i in glob.glob(\"../Data/*.csv\", recursive=True):\n",
    "    csvs.append(i)\n",
    "\n",
    "csvs"
   ]
  },
  {
   "cell_type": "code",
   "execution_count": 165,
   "metadata": {},
   "outputs": [
    {
     "name": "stdout",
     "output_type": "stream",
     "text": [
      "../Data/adams-canyon-trail.csv\n",
      "../Data/scout-falls-trail.csv\n",
      "../Data/dog-lake-via-big-water-trail.csv\n",
      "../Data/lake-catherine-via-brighton-lakes-trail.csv\n",
      "../Data/lake-desolation-mill-d-north-trail.csv\n",
      "../Data/centerville-canyon-via-deuel-creek-trail.csv\n",
      "../Data/desolation-trail-to-salt-lake-overlook.csv\n",
      "../Data/waterfall-canyon-trail.csv\n",
      "../Data/grandeur-peak-east-trail-from-church-fork.csv\n",
      "../Data/horsetail-falls-trail.csv\n",
      "../Data/donut-falls-trail.csv\n",
      "../Data/battle-creek-falls.csv\n",
      "../Data/mt-timpanogos-timpooneke-trail.csv\n",
      "../Data/willow-heights-trail.csv\n",
      "../Data/bells-canyon-trail-to-lower-falls.csv\n",
      "../Data/fifth-water-hot-springs-trail.csv\n",
      "../Data/ferguson-canyon-trail-to-upper-meadow.csv\n",
      "../Data/cecret-lake-trail.csv\n",
      "../Data/lake-mary-trail.csv\n",
      "../Data/heughs-canyon-trail.csv\n"
     ]
    },
    {
     "data": {
      "text/html": [
       "<div>\n",
       "<style scoped>\n",
       "    .dataframe tbody tr th:only-of-type {\n",
       "        vertical-align: middle;\n",
       "    }\n",
       "\n",
       "    .dataframe tbody tr th {\n",
       "        vertical-align: top;\n",
       "    }\n",
       "\n",
       "    .dataframe thead th {\n",
       "        text-align: right;\n",
       "    }\n",
       "</style>\n",
       "<table border=\"1\" class=\"dataframe\">\n",
       "  <thead>\n",
       "    <tr style=\"text-align: right;\">\n",
       "      <th></th>\n",
       "      <th>Unnamed: 0</th>\n",
       "      <th>Date</th>\n",
       "      <th>Tags</th>\n",
       "      <th>Comments</th>\n",
       "      <th>Unnamed: 4</th>\n",
       "    </tr>\n",
       "  </thead>\n",
       "  <tbody>\n",
       "    <tr>\n",
       "      <td>0</td>\n",
       "      <td>0</td>\n",
       "      <td>2019-09-07</td>\n",
       "      <td>['hiking']</td>\n",
       "      <td>Love Adams , love the waterfall, initial switc...</td>\n",
       "      <td>NaN</td>\n",
       "    </tr>\n",
       "    <tr>\n",
       "      <td>1</td>\n",
       "      <td>1</td>\n",
       "      <td>2019-09-06</td>\n",
       "      <td>['hiking']</td>\n",
       "      <td>Hiked this today with our 4 and 6 year old. A ...</td>\n",
       "      <td>NaN</td>\n",
       "    </tr>\n",
       "    <tr>\n",
       "      <td>2</td>\n",
       "      <td>2</td>\n",
       "      <td>2019-09-04</td>\n",
       "      <td>['trail running', 'closed']</td>\n",
       "      <td>Currently closed because of the Snoqualmie fire.</td>\n",
       "      <td>NaN</td>\n",
       "    </tr>\n",
       "    <tr>\n",
       "      <td>3</td>\n",
       "      <td>3</td>\n",
       "      <td>2019-09-03</td>\n",
       "      <td>['hiking', 'bugs', 'scramble']</td>\n",
       "      <td>I did this trail on August 15th, 2019. It was ...</td>\n",
       "      <td>NaN</td>\n",
       "    </tr>\n",
       "    <tr>\n",
       "      <td>4</td>\n",
       "      <td>4</td>\n",
       "      <td>2019-09-02</td>\n",
       "      <td>['hiking']</td>\n",
       "      <td>The Sandy switch backs kinda kicks your butt i...</td>\n",
       "      <td>NaN</td>\n",
       "    </tr>\n",
       "    <tr>\n",
       "      <td>...</td>\n",
       "      <td>...</td>\n",
       "      <td>...</td>\n",
       "      <td>...</td>\n",
       "      <td>...</td>\n",
       "      <td>...</td>\n",
       "    </tr>\n",
       "    <tr>\n",
       "      <td>16603</td>\n",
       "      <td>492</td>\n",
       "      <td>2016-04-09</td>\n",
       "      <td>['']</td>\n",
       "      <td>NaN</td>\n",
       "      <td>NaN</td>\n",
       "    </tr>\n",
       "    <tr>\n",
       "      <td>16604</td>\n",
       "      <td>493</td>\n",
       "      <td>2016-04-04</td>\n",
       "      <td>['hiking']</td>\n",
       "      <td>NaN</td>\n",
       "      <td>NaN</td>\n",
       "    </tr>\n",
       "    <tr>\n",
       "      <td>16605</td>\n",
       "      <td>494</td>\n",
       "      <td>2016-04-03</td>\n",
       "      <td>['']</td>\n",
       "      <td>NaN</td>\n",
       "      <td>NaN</td>\n",
       "    </tr>\n",
       "    <tr>\n",
       "      <td>16606</td>\n",
       "      <td>495</td>\n",
       "      <td>2016-03-18</td>\n",
       "      <td>['hiking']</td>\n",
       "      <td>NaN</td>\n",
       "      <td>NaN</td>\n",
       "    </tr>\n",
       "    <tr>\n",
       "      <td>16607</td>\n",
       "      <td>496</td>\n",
       "      <td>2014-12-07</td>\n",
       "      <td>['hiking']</td>\n",
       "      <td>NaN</td>\n",
       "      <td>NaN</td>\n",
       "    </tr>\n",
       "  </tbody>\n",
       "</table>\n",
       "<p>16608 rows × 5 columns</p>\n",
       "</div>"
      ],
      "text/plain": [
       "       Unnamed: 0        Date                            Tags  \\\n",
       "0               0  2019-09-07                      ['hiking']   \n",
       "1               1  2019-09-06                      ['hiking']   \n",
       "2               2  2019-09-04     ['trail running', 'closed']   \n",
       "3               3  2019-09-03  ['hiking', 'bugs', 'scramble']   \n",
       "4               4  2019-09-02                      ['hiking']   \n",
       "...           ...         ...                             ...   \n",
       "16603         492  2016-04-09                            ['']   \n",
       "16604         493  2016-04-04                      ['hiking']   \n",
       "16605         494  2016-04-03                            ['']   \n",
       "16606         495  2016-03-18                      ['hiking']   \n",
       "16607         496  2014-12-07                      ['hiking']   \n",
       "\n",
       "                                                Comments Unnamed: 4  \n",
       "0      Love Adams , love the waterfall, initial switc...        NaN  \n",
       "1      Hiked this today with our 4 and 6 year old. A ...        NaN  \n",
       "2       Currently closed because of the Snoqualmie fire.        NaN  \n",
       "3      I did this trail on August 15th, 2019. It was ...        NaN  \n",
       "4      The Sandy switch backs kinda kicks your butt i...        NaN  \n",
       "...                                                  ...        ...  \n",
       "16603                                                NaN        NaN  \n",
       "16604                                                NaN        NaN  \n",
       "16605                                                NaN        NaN  \n",
       "16606                                                NaN        NaN  \n",
       "16607                                                NaN        NaN  \n",
       "\n",
       "[16608 rows x 5 columns]"
      ]
     },
     "execution_count": 165,
     "metadata": {},
     "output_type": "execute_result"
    }
   ],
   "source": [
    "df = []\n",
    "for i in csvs:\n",
    "    print(i)\n",
    "    ds = pd.read_csv(i)\n",
    "    df.append(ds)\n",
    "\n",
    "df = pd.concat((pd.read_csv(i) for i in csvs),axis=0, ignore_index=True, sort=False)\n",
    "df\n",
    "    "
   ]
  },
  {
   "cell_type": "code",
   "execution_count": 166,
   "metadata": {},
   "outputs": [
    {
     "data": {
      "text/html": [
       "<div>\n",
       "<style scoped>\n",
       "    .dataframe tbody tr th:only-of-type {\n",
       "        vertical-align: middle;\n",
       "    }\n",
       "\n",
       "    .dataframe tbody tr th {\n",
       "        vertical-align: top;\n",
       "    }\n",
       "\n",
       "    .dataframe thead th {\n",
       "        text-align: right;\n",
       "    }\n",
       "</style>\n",
       "<table border=\"1\" class=\"dataframe\">\n",
       "  <thead>\n",
       "    <tr style=\"text-align: right;\">\n",
       "      <th></th>\n",
       "      <th>Date</th>\n",
       "      <th>Tags</th>\n",
       "      <th>Comments</th>\n",
       "    </tr>\n",
       "  </thead>\n",
       "  <tbody>\n",
       "    <tr>\n",
       "      <td>0</td>\n",
       "      <td>2019-09-07</td>\n",
       "      <td>['hiking']</td>\n",
       "      <td>Love Adams , love the waterfall, initial switc...</td>\n",
       "    </tr>\n",
       "    <tr>\n",
       "      <td>1</td>\n",
       "      <td>2019-09-06</td>\n",
       "      <td>['hiking']</td>\n",
       "      <td>Hiked this today with our 4 and 6 year old. A ...</td>\n",
       "    </tr>\n",
       "    <tr>\n",
       "      <td>2</td>\n",
       "      <td>2019-09-04</td>\n",
       "      <td>['trail running', 'closed']</td>\n",
       "      <td>Currently closed because of the Snoqualmie fire.</td>\n",
       "    </tr>\n",
       "    <tr>\n",
       "      <td>3</td>\n",
       "      <td>2019-09-03</td>\n",
       "      <td>['hiking', 'bugs', 'scramble']</td>\n",
       "      <td>I did this trail on August 15th, 2019. It was ...</td>\n",
       "    </tr>\n",
       "    <tr>\n",
       "      <td>4</td>\n",
       "      <td>2019-09-02</td>\n",
       "      <td>['hiking']</td>\n",
       "      <td>The Sandy switch backs kinda kicks your butt i...</td>\n",
       "    </tr>\n",
       "  </tbody>\n",
       "</table>\n",
       "</div>"
      ],
      "text/plain": [
       "         Date                            Tags  \\\n",
       "0  2019-09-07                      ['hiking']   \n",
       "1  2019-09-06                      ['hiking']   \n",
       "2  2019-09-04     ['trail running', 'closed']   \n",
       "3  2019-09-03  ['hiking', 'bugs', 'scramble']   \n",
       "4  2019-09-02                      ['hiking']   \n",
       "\n",
       "                                            Comments  \n",
       "0  Love Adams , love the waterfall, initial switc...  \n",
       "1  Hiked this today with our 4 and 6 year old. A ...  \n",
       "2   Currently closed because of the Snoqualmie fire.  \n",
       "3  I did this trail on August 15th, 2019. It was ...  \n",
       "4  The Sandy switch backs kinda kicks your butt i...  "
      ]
     },
     "execution_count": 166,
     "metadata": {},
     "output_type": "execute_result"
    }
   ],
   "source": [
    "# Drop the index column\n",
    "df = df.drop(['Unnamed: 0','Unnamed: 4'], axis=1)\n",
    "df.head()"
   ]
  },
  {
   "cell_type": "markdown",
   "metadata": {},
   "source": [
    "There is also bunch of rows with no comment or tags. We need to remove them and clean-up the data. "
   ]
  },
  {
   "cell_type": "code",
   "execution_count": 167,
   "metadata": {},
   "outputs": [
    {
     "data": {
      "text/plain": [
       "(7252, 3)"
      ]
     },
     "execution_count": 167,
     "metadata": {},
     "output_type": "execute_result"
    }
   ],
   "source": [
    "# Lets remove rows with no comments\n",
    "df = df[pd.notnull(df['Comments'])]\n",
    "df.shape"
   ]
  },
  {
   "cell_type": "markdown",
   "metadata": {},
   "source": [
    "#### Here is another way to drop rows with NAN, the only difference is that this one removes everything\n",
    "df = df.dropna()"
   ]
  },
  {
   "cell_type": "code",
   "execution_count": 168,
   "metadata": {},
   "outputs": [
    {
     "data": {
      "text/html": [
       "<div>\n",
       "<style scoped>\n",
       "    .dataframe tbody tr th:only-of-type {\n",
       "        vertical-align: middle;\n",
       "    }\n",
       "\n",
       "    .dataframe tbody tr th {\n",
       "        vertical-align: top;\n",
       "    }\n",
       "\n",
       "    .dataframe thead th {\n",
       "        text-align: right;\n",
       "    }\n",
       "</style>\n",
       "<table border=\"1\" class=\"dataframe\">\n",
       "  <thead>\n",
       "    <tr style=\"text-align: right;\">\n",
       "      <th></th>\n",
       "      <th>Date</th>\n",
       "      <th>Tags</th>\n",
       "      <th>Comments</th>\n",
       "    </tr>\n",
       "  </thead>\n",
       "  <tbody>\n",
       "    <tr>\n",
       "      <td>0</td>\n",
       "      <td>2019-09-07</td>\n",
       "      <td>['hiking']</td>\n",
       "      <td>Love Adams , love the waterfall, initial switc...</td>\n",
       "    </tr>\n",
       "    <tr>\n",
       "      <td>1</td>\n",
       "      <td>2019-09-06</td>\n",
       "      <td>['hiking']</td>\n",
       "      <td>Hiked this today with our 4 and 6 year old. A ...</td>\n",
       "    </tr>\n",
       "    <tr>\n",
       "      <td>2</td>\n",
       "      <td>2019-09-04</td>\n",
       "      <td>['trail running', 'closed']</td>\n",
       "      <td>Currently closed because of the Snoqualmie fire.</td>\n",
       "    </tr>\n",
       "    <tr>\n",
       "      <td>3</td>\n",
       "      <td>2019-09-03</td>\n",
       "      <td>['hiking', 'bugs', 'scramble']</td>\n",
       "      <td>I did this trail on August 15th, 2019. It was ...</td>\n",
       "    </tr>\n",
       "    <tr>\n",
       "      <td>4</td>\n",
       "      <td>2019-09-02</td>\n",
       "      <td>['hiking']</td>\n",
       "      <td>The Sandy switch backs kinda kicks your butt i...</td>\n",
       "    </tr>\n",
       "    <tr>\n",
       "      <td>...</td>\n",
       "      <td>...</td>\n",
       "      <td>...</td>\n",
       "      <td>...</td>\n",
       "    </tr>\n",
       "    <tr>\n",
       "      <td>16290</td>\n",
       "      <td>2015-05-04</td>\n",
       "      <td>['hiking']</td>\n",
       "      <td>Trailhead access does feel dodgy, as you're wa...</td>\n",
       "    </tr>\n",
       "    <tr>\n",
       "      <td>16291</td>\n",
       "      <td>2015-04-30</td>\n",
       "      <td>['']</td>\n",
       "      <td>Amazing variety of landscape! A couple of spri...</td>\n",
       "    </tr>\n",
       "    <tr>\n",
       "      <td>16292</td>\n",
       "      <td>2015-04-19</td>\n",
       "      <td>['hiking']</td>\n",
       "      <td>I like this new hike I found! Decent variety- ...</td>\n",
       "    </tr>\n",
       "    <tr>\n",
       "      <td>16293</td>\n",
       "      <td>2014-09-18</td>\n",
       "      <td>['hiking']</td>\n",
       "      <td>If you work nearby and have an hour to spare, ...</td>\n",
       "    </tr>\n",
       "    <tr>\n",
       "      <td>16294</td>\n",
       "      <td>2014-07-08</td>\n",
       "      <td>['camping']</td>\n",
       "      <td>The trail starts off in some guys drive way......</td>\n",
       "    </tr>\n",
       "  </tbody>\n",
       "</table>\n",
       "<p>7252 rows × 3 columns</p>\n",
       "</div>"
      ],
      "text/plain": [
       "             Date                            Tags  \\\n",
       "0      2019-09-07                      ['hiking']   \n",
       "1      2019-09-06                      ['hiking']   \n",
       "2      2019-09-04     ['trail running', 'closed']   \n",
       "3      2019-09-03  ['hiking', 'bugs', 'scramble']   \n",
       "4      2019-09-02                      ['hiking']   \n",
       "...           ...                             ...   \n",
       "16290  2015-05-04                      ['hiking']   \n",
       "16291  2015-04-30                            ['']   \n",
       "16292  2015-04-19                      ['hiking']   \n",
       "16293  2014-09-18                      ['hiking']   \n",
       "16294  2014-07-08                     ['camping']   \n",
       "\n",
       "                                                Comments  \n",
       "0      Love Adams , love the waterfall, initial switc...  \n",
       "1      Hiked this today with our 4 and 6 year old. A ...  \n",
       "2       Currently closed because of the Snoqualmie fire.  \n",
       "3      I did this trail on August 15th, 2019. It was ...  \n",
       "4      The Sandy switch backs kinda kicks your butt i...  \n",
       "...                                                  ...  \n",
       "16290  Trailhead access does feel dodgy, as you're wa...  \n",
       "16291  Amazing variety of landscape! A couple of spri...  \n",
       "16292  I like this new hike I found! Decent variety- ...  \n",
       "16293  If you work nearby and have an hour to spare, ...  \n",
       "16294  The trail starts off in some guys drive way......  \n",
       "\n",
       "[7252 rows x 3 columns]"
      ]
     },
     "execution_count": 168,
     "metadata": {},
     "output_type": "execute_result"
    }
   ],
   "source": [
    "cf = df\n",
    "cf"
   ]
  },
  {
   "cell_type": "code",
   "execution_count": 169,
   "metadata": {},
   "outputs": [],
   "source": [
    "# remove the brackets and quatations\n",
    "def cleanit(df, text_field):\n",
    "    df[text_field] = df[text_field].str.strip(\"'[]\")\n",
    "    df[text_field] = df[text_field].str.replace(\"'\",\"\")\n",
    "    return df"
   ]
  },
  {
   "cell_type": "code",
   "execution_count": 170,
   "metadata": {},
   "outputs": [
    {
     "data": {
      "text/html": [
       "<div>\n",
       "<style scoped>\n",
       "    .dataframe tbody tr th:only-of-type {\n",
       "        vertical-align: middle;\n",
       "    }\n",
       "\n",
       "    .dataframe tbody tr th {\n",
       "        vertical-align: top;\n",
       "    }\n",
       "\n",
       "    .dataframe thead th {\n",
       "        text-align: right;\n",
       "    }\n",
       "</style>\n",
       "<table border=\"1\" class=\"dataframe\">\n",
       "  <thead>\n",
       "    <tr style=\"text-align: right;\">\n",
       "      <th></th>\n",
       "      <th>Date</th>\n",
       "      <th>Tags</th>\n",
       "      <th>Comments</th>\n",
       "    </tr>\n",
       "  </thead>\n",
       "  <tbody>\n",
       "    <tr>\n",
       "      <td>0</td>\n",
       "      <td>2019-09-07</td>\n",
       "      <td>hiking</td>\n",
       "      <td>Love Adams , love the waterfall, initial switc...</td>\n",
       "    </tr>\n",
       "    <tr>\n",
       "      <td>1</td>\n",
       "      <td>2019-09-06</td>\n",
       "      <td>hiking</td>\n",
       "      <td>Hiked this today with our 4 and 6 year old. A ...</td>\n",
       "    </tr>\n",
       "    <tr>\n",
       "      <td>2</td>\n",
       "      <td>2019-09-04</td>\n",
       "      <td>trail running, closed</td>\n",
       "      <td>Currently closed because of the Snoqualmie fire.</td>\n",
       "    </tr>\n",
       "    <tr>\n",
       "      <td>3</td>\n",
       "      <td>2019-09-03</td>\n",
       "      <td>hiking, bugs, scramble</td>\n",
       "      <td>I did this trail on August 15th, 2019. It was ...</td>\n",
       "    </tr>\n",
       "    <tr>\n",
       "      <td>4</td>\n",
       "      <td>2019-09-02</td>\n",
       "      <td>hiking</td>\n",
       "      <td>The Sandy switch backs kinda kicks your butt i...</td>\n",
       "    </tr>\n",
       "    <tr>\n",
       "      <td>...</td>\n",
       "      <td>...</td>\n",
       "      <td>...</td>\n",
       "      <td>...</td>\n",
       "    </tr>\n",
       "    <tr>\n",
       "      <td>16290</td>\n",
       "      <td>2015-05-04</td>\n",
       "      <td>hiking</td>\n",
       "      <td>Trailhead access does feel dodgy, as you're wa...</td>\n",
       "    </tr>\n",
       "    <tr>\n",
       "      <td>16291</td>\n",
       "      <td>2015-04-30</td>\n",
       "      <td></td>\n",
       "      <td>Amazing variety of landscape! A couple of spri...</td>\n",
       "    </tr>\n",
       "    <tr>\n",
       "      <td>16292</td>\n",
       "      <td>2015-04-19</td>\n",
       "      <td>hiking</td>\n",
       "      <td>I like this new hike I found! Decent variety- ...</td>\n",
       "    </tr>\n",
       "    <tr>\n",
       "      <td>16293</td>\n",
       "      <td>2014-09-18</td>\n",
       "      <td>hiking</td>\n",
       "      <td>If you work nearby and have an hour to spare, ...</td>\n",
       "    </tr>\n",
       "    <tr>\n",
       "      <td>16294</td>\n",
       "      <td>2014-07-08</td>\n",
       "      <td>camping</td>\n",
       "      <td>The trail starts off in some guys drive way......</td>\n",
       "    </tr>\n",
       "  </tbody>\n",
       "</table>\n",
       "<p>7252 rows × 3 columns</p>\n",
       "</div>"
      ],
      "text/plain": [
       "             Date                    Tags  \\\n",
       "0      2019-09-07                  hiking   \n",
       "1      2019-09-06                  hiking   \n",
       "2      2019-09-04   trail running, closed   \n",
       "3      2019-09-03  hiking, bugs, scramble   \n",
       "4      2019-09-02                  hiking   \n",
       "...           ...                     ...   \n",
       "16290  2015-05-04                  hiking   \n",
       "16291  2015-04-30                           \n",
       "16292  2015-04-19                  hiking   \n",
       "16293  2014-09-18                  hiking   \n",
       "16294  2014-07-08                 camping   \n",
       "\n",
       "                                                Comments  \n",
       "0      Love Adams , love the waterfall, initial switc...  \n",
       "1      Hiked this today with our 4 and 6 year old. A ...  \n",
       "2       Currently closed because of the Snoqualmie fire.  \n",
       "3      I did this trail on August 15th, 2019. It was ...  \n",
       "4      The Sandy switch backs kinda kicks your butt i...  \n",
       "...                                                  ...  \n",
       "16290  Trailhead access does feel dodgy, as you're wa...  \n",
       "16291  Amazing variety of landscape! A couple of spri...  \n",
       "16292  I like this new hike I found! Decent variety- ...  \n",
       "16293  If you work nearby and have an hour to spare, ...  \n",
       "16294  The trail starts off in some guys drive way......  \n",
       "\n",
       "[7252 rows x 3 columns]"
      ]
     },
     "execution_count": 170,
     "metadata": {},
     "output_type": "execute_result"
    }
   ],
   "source": [
    "cleanit(cf, 'Tags')"
   ]
  },
  {
   "cell_type": "markdown",
   "metadata": {},
   "source": [
    "Now let's expand out classification column into a \"multi labeled\" series of classes."
   ]
  },
  {
   "cell_type": "code",
   "execution_count": 171,
   "metadata": {},
   "outputs": [],
   "source": [
    "Tag_cols = cf['Tags'].str.split(\",\", expand=True)"
   ]
  },
  {
   "cell_type": "markdown",
   "metadata": {},
   "source": [
    "Now we can combine the data-frame and the tags."
   ]
  },
  {
   "cell_type": "code",
   "execution_count": 176,
   "metadata": {},
   "outputs": [
    {
     "data": {
      "text/html": [
       "<div>\n",
       "<style scoped>\n",
       "    .dataframe tbody tr th:only-of-type {\n",
       "        vertical-align: middle;\n",
       "    }\n",
       "\n",
       "    .dataframe tbody tr th {\n",
       "        vertical-align: top;\n",
       "    }\n",
       "\n",
       "    .dataframe thead th {\n",
       "        text-align: right;\n",
       "    }\n",
       "</style>\n",
       "<table border=\"1\" class=\"dataframe\">\n",
       "  <thead>\n",
       "    <tr style=\"text-align: right;\">\n",
       "      <th></th>\n",
       "      <th>Date</th>\n",
       "      <th>Tags</th>\n",
       "      <th>Comments</th>\n",
       "      <th>0</th>\n",
       "      <th>1</th>\n",
       "      <th>2</th>\n",
       "      <th>3</th>\n",
       "      <th>4</th>\n",
       "      <th>5</th>\n",
       "      <th>6</th>\n",
       "    </tr>\n",
       "  </thead>\n",
       "  <tbody>\n",
       "    <tr>\n",
       "      <td>0</td>\n",
       "      <td>2019-09-07</td>\n",
       "      <td>hiking</td>\n",
       "      <td>Love Adams , love the waterfall, initial switc...</td>\n",
       "      <td>hiking</td>\n",
       "      <td>None</td>\n",
       "      <td>None</td>\n",
       "      <td>None</td>\n",
       "      <td>None</td>\n",
       "      <td>None</td>\n",
       "      <td>None</td>\n",
       "    </tr>\n",
       "    <tr>\n",
       "      <td>1</td>\n",
       "      <td>2019-09-06</td>\n",
       "      <td>hiking</td>\n",
       "      <td>Hiked this today with our 4 and 6 year old. A ...</td>\n",
       "      <td>hiking</td>\n",
       "      <td>None</td>\n",
       "      <td>None</td>\n",
       "      <td>None</td>\n",
       "      <td>None</td>\n",
       "      <td>None</td>\n",
       "      <td>None</td>\n",
       "    </tr>\n",
       "    <tr>\n",
       "      <td>2</td>\n",
       "      <td>2019-09-04</td>\n",
       "      <td>trail running, closed</td>\n",
       "      <td>Currently closed because of the Snoqualmie fire.</td>\n",
       "      <td>trail running</td>\n",
       "      <td>closed</td>\n",
       "      <td>None</td>\n",
       "      <td>None</td>\n",
       "      <td>None</td>\n",
       "      <td>None</td>\n",
       "      <td>None</td>\n",
       "    </tr>\n",
       "    <tr>\n",
       "      <td>3</td>\n",
       "      <td>2019-09-03</td>\n",
       "      <td>hiking, bugs, scramble</td>\n",
       "      <td>I did this trail on August 15th, 2019. It was ...</td>\n",
       "      <td>hiking</td>\n",
       "      <td>bugs</td>\n",
       "      <td>scramble</td>\n",
       "      <td>None</td>\n",
       "      <td>None</td>\n",
       "      <td>None</td>\n",
       "      <td>None</td>\n",
       "    </tr>\n",
       "    <tr>\n",
       "      <td>4</td>\n",
       "      <td>2019-09-02</td>\n",
       "      <td>hiking</td>\n",
       "      <td>The Sandy switch backs kinda kicks your butt i...</td>\n",
       "      <td>hiking</td>\n",
       "      <td>None</td>\n",
       "      <td>None</td>\n",
       "      <td>None</td>\n",
       "      <td>None</td>\n",
       "      <td>None</td>\n",
       "      <td>None</td>\n",
       "    </tr>\n",
       "  </tbody>\n",
       "</table>\n",
       "</div>"
      ],
      "text/plain": [
       "         Date                    Tags  \\\n",
       "0  2019-09-07                  hiking   \n",
       "1  2019-09-06                  hiking   \n",
       "2  2019-09-04   trail running, closed   \n",
       "3  2019-09-03  hiking, bugs, scramble   \n",
       "4  2019-09-02                  hiking   \n",
       "\n",
       "                                            Comments              0        1  \\\n",
       "0  Love Adams , love the waterfall, initial switc...         hiking     None   \n",
       "1  Hiked this today with our 4 and 6 year old. A ...         hiking     None   \n",
       "2   Currently closed because of the Snoqualmie fire.  trail running   closed   \n",
       "3  I did this trail on August 15th, 2019. It was ...         hiking     bugs   \n",
       "4  The Sandy switch backs kinda kicks your butt i...         hiking     None   \n",
       "\n",
       "           2     3     4     5     6  \n",
       "0       None  None  None  None  None  \n",
       "1       None  None  None  None  None  \n",
       "2       None  None  None  None  None  \n",
       "3   scramble  None  None  None  None  \n",
       "4       None  None  None  None  None  "
      ]
     },
     "execution_count": 176,
     "metadata": {},
     "output_type": "execute_result"
    }
   ],
   "source": [
    "cdf = pd.concat([df,Tag_cols],axis=1, sort=False)\n",
    "cdf.head()"
   ]
  },
  {
   "cell_type": "code",
   "execution_count": 177,
   "metadata": {},
   "outputs": [
    {
     "data": {
      "text/html": [
       "<div>\n",
       "<style scoped>\n",
       "    .dataframe tbody tr th:only-of-type {\n",
       "        vertical-align: middle;\n",
       "    }\n",
       "\n",
       "    .dataframe tbody tr th {\n",
       "        vertical-align: top;\n",
       "    }\n",
       "\n",
       "    .dataframe thead th {\n",
       "        text-align: right;\n",
       "    }\n",
       "</style>\n",
       "<table border=\"1\" class=\"dataframe\">\n",
       "  <thead>\n",
       "    <tr style=\"text-align: right;\">\n",
       "      <th></th>\n",
       "      <th>Date</th>\n",
       "      <th>Tags</th>\n",
       "      <th>Comments</th>\n",
       "      <th>class0</th>\n",
       "      <th>class1</th>\n",
       "      <th>class2</th>\n",
       "      <th>class3</th>\n",
       "      <th>class4</th>\n",
       "      <th>class5</th>\n",
       "      <th>class6</th>\n",
       "    </tr>\n",
       "  </thead>\n",
       "  <tbody>\n",
       "    <tr>\n",
       "      <td>0</td>\n",
       "      <td>2019-09-07</td>\n",
       "      <td>hiking</td>\n",
       "      <td>Love Adams , love the waterfall, initial switc...</td>\n",
       "      <td>hiking</td>\n",
       "      <td>None</td>\n",
       "      <td>None</td>\n",
       "      <td>None</td>\n",
       "      <td>None</td>\n",
       "      <td>None</td>\n",
       "      <td>None</td>\n",
       "    </tr>\n",
       "    <tr>\n",
       "      <td>1</td>\n",
       "      <td>2019-09-06</td>\n",
       "      <td>hiking</td>\n",
       "      <td>Hiked this today with our 4 and 6 year old. A ...</td>\n",
       "      <td>hiking</td>\n",
       "      <td>None</td>\n",
       "      <td>None</td>\n",
       "      <td>None</td>\n",
       "      <td>None</td>\n",
       "      <td>None</td>\n",
       "      <td>None</td>\n",
       "    </tr>\n",
       "    <tr>\n",
       "      <td>2</td>\n",
       "      <td>2019-09-04</td>\n",
       "      <td>trail running, closed</td>\n",
       "      <td>Currently closed because of the Snoqualmie fire.</td>\n",
       "      <td>trail running</td>\n",
       "      <td>closed</td>\n",
       "      <td>None</td>\n",
       "      <td>None</td>\n",
       "      <td>None</td>\n",
       "      <td>None</td>\n",
       "      <td>None</td>\n",
       "    </tr>\n",
       "    <tr>\n",
       "      <td>3</td>\n",
       "      <td>2019-09-03</td>\n",
       "      <td>hiking, bugs, scramble</td>\n",
       "      <td>I did this trail on August 15th, 2019. It was ...</td>\n",
       "      <td>hiking</td>\n",
       "      <td>bugs</td>\n",
       "      <td>scramble</td>\n",
       "      <td>None</td>\n",
       "      <td>None</td>\n",
       "      <td>None</td>\n",
       "      <td>None</td>\n",
       "    </tr>\n",
       "    <tr>\n",
       "      <td>4</td>\n",
       "      <td>2019-09-02</td>\n",
       "      <td>hiking</td>\n",
       "      <td>The Sandy switch backs kinda kicks your butt i...</td>\n",
       "      <td>hiking</td>\n",
       "      <td>None</td>\n",
       "      <td>None</td>\n",
       "      <td>None</td>\n",
       "      <td>None</td>\n",
       "      <td>None</td>\n",
       "      <td>None</td>\n",
       "    </tr>\n",
       "  </tbody>\n",
       "</table>\n",
       "</div>"
      ],
      "text/plain": [
       "         Date                    Tags  \\\n",
       "0  2019-09-07                  hiking   \n",
       "1  2019-09-06                  hiking   \n",
       "2  2019-09-04   trail running, closed   \n",
       "3  2019-09-03  hiking, bugs, scramble   \n",
       "4  2019-09-02                  hiking   \n",
       "\n",
       "                                            Comments         class0   class1  \\\n",
       "0  Love Adams , love the waterfall, initial switc...         hiking     None   \n",
       "1  Hiked this today with our 4 and 6 year old. A ...         hiking     None   \n",
       "2   Currently closed because of the Snoqualmie fire.  trail running   closed   \n",
       "3  I did this trail on August 15th, 2019. It was ...         hiking     bugs   \n",
       "4  The Sandy switch backs kinda kicks your butt i...         hiking     None   \n",
       "\n",
       "      class2 class3 class4 class5 class6  \n",
       "0       None   None   None   None   None  \n",
       "1       None   None   None   None   None  \n",
       "2       None   None   None   None   None  \n",
       "3   scramble   None   None   None   None  \n",
       "4       None   None   None   None   None  "
      ]
     },
     "execution_count": 177,
     "metadata": {},
     "output_type": "execute_result"
    }
   ],
   "source": [
    "cdf = cdf.rename(columns={0:\"class0\",1:\"class1\",2:\"class2\",3:\"class3\",4:\"class4\",5:\"class5\",6:\"class6\"})\n",
    "cdf.head()"
   ]
  },
  {
   "cell_type": "markdown",
   "metadata": {},
   "source": [
    "So now we have a dataset with multi-label for classification and the comment column. We will be cleaning up the label column in order to prepare it for classification. "
   ]
  },
  {
   "cell_type": "code",
   "execution_count": 178,
   "metadata": {},
   "outputs": [],
   "source": [
    "df = cdf"
   ]
  },
  {
   "cell_type": "markdown",
   "metadata": {},
   "source": [
    "Let's remove the columns that are not going to be use. "
   ]
  },
  {
   "cell_type": "code",
   "execution_count": 179,
   "metadata": {},
   "outputs": [
    {
     "data": {
      "text/html": [
       "<div>\n",
       "<style scoped>\n",
       "    .dataframe tbody tr th:only-of-type {\n",
       "        vertical-align: middle;\n",
       "    }\n",
       "\n",
       "    .dataframe tbody tr th {\n",
       "        vertical-align: top;\n",
       "    }\n",
       "\n",
       "    .dataframe thead th {\n",
       "        text-align: right;\n",
       "    }\n",
       "</style>\n",
       "<table border=\"1\" class=\"dataframe\">\n",
       "  <thead>\n",
       "    <tr style=\"text-align: right;\">\n",
       "      <th></th>\n",
       "      <th>Date</th>\n",
       "      <th>Comments</th>\n",
       "      <th>class0</th>\n",
       "      <th>class1</th>\n",
       "      <th>class2</th>\n",
       "      <th>class3</th>\n",
       "      <th>class4</th>\n",
       "      <th>class5</th>\n",
       "      <th>class6</th>\n",
       "    </tr>\n",
       "  </thead>\n",
       "  <tbody>\n",
       "    <tr>\n",
       "      <td>0</td>\n",
       "      <td>2019-09-07</td>\n",
       "      <td>Love Adams , love the waterfall, initial switc...</td>\n",
       "      <td>hiking</td>\n",
       "      <td>None</td>\n",
       "      <td>None</td>\n",
       "      <td>None</td>\n",
       "      <td>None</td>\n",
       "      <td>None</td>\n",
       "      <td>None</td>\n",
       "    </tr>\n",
       "    <tr>\n",
       "      <td>1</td>\n",
       "      <td>2019-09-06</td>\n",
       "      <td>Hiked this today with our 4 and 6 year old. A ...</td>\n",
       "      <td>hiking</td>\n",
       "      <td>None</td>\n",
       "      <td>None</td>\n",
       "      <td>None</td>\n",
       "      <td>None</td>\n",
       "      <td>None</td>\n",
       "      <td>None</td>\n",
       "    </tr>\n",
       "    <tr>\n",
       "      <td>2</td>\n",
       "      <td>2019-09-04</td>\n",
       "      <td>Currently closed because of the Snoqualmie fire.</td>\n",
       "      <td>trail running</td>\n",
       "      <td>closed</td>\n",
       "      <td>None</td>\n",
       "      <td>None</td>\n",
       "      <td>None</td>\n",
       "      <td>None</td>\n",
       "      <td>None</td>\n",
       "    </tr>\n",
       "    <tr>\n",
       "      <td>3</td>\n",
       "      <td>2019-09-03</td>\n",
       "      <td>I did this trail on August 15th, 2019. It was ...</td>\n",
       "      <td>hiking</td>\n",
       "      <td>bugs</td>\n",
       "      <td>scramble</td>\n",
       "      <td>None</td>\n",
       "      <td>None</td>\n",
       "      <td>None</td>\n",
       "      <td>None</td>\n",
       "    </tr>\n",
       "    <tr>\n",
       "      <td>4</td>\n",
       "      <td>2019-09-02</td>\n",
       "      <td>The Sandy switch backs kinda kicks your butt i...</td>\n",
       "      <td>hiking</td>\n",
       "      <td>None</td>\n",
       "      <td>None</td>\n",
       "      <td>None</td>\n",
       "      <td>None</td>\n",
       "      <td>None</td>\n",
       "      <td>None</td>\n",
       "    </tr>\n",
       "  </tbody>\n",
       "</table>\n",
       "</div>"
      ],
      "text/plain": [
       "         Date                                           Comments  \\\n",
       "0  2019-09-07  Love Adams , love the waterfall, initial switc...   \n",
       "1  2019-09-06  Hiked this today with our 4 and 6 year old. A ...   \n",
       "2  2019-09-04   Currently closed because of the Snoqualmie fire.   \n",
       "3  2019-09-03  I did this trail on August 15th, 2019. It was ...   \n",
       "4  2019-09-02  The Sandy switch backs kinda kicks your butt i...   \n",
       "\n",
       "          class0   class1     class2 class3 class4 class5 class6  \n",
       "0         hiking     None       None   None   None   None   None  \n",
       "1         hiking     None       None   None   None   None   None  \n",
       "2  trail running   closed       None   None   None   None   None  \n",
       "3         hiking     bugs   scramble   None   None   None   None  \n",
       "4         hiking     None       None   None   None   None   None  "
      ]
     },
     "execution_count": 179,
     "metadata": {},
     "output_type": "execute_result"
    }
   ],
   "source": [
    "df = df.drop(['Tags'],axis=1)\n",
    "df.head()"
   ]
  },
  {
   "cell_type": "markdown",
   "metadata": {},
   "source": [
    "Now let's add some the Jday column as a predictor. "
   ]
  },
  {
   "cell_type": "code",
   "execution_count": 180,
   "metadata": {},
   "outputs": [
    {
     "name": "stdout",
     "output_type": "stream",
     "text": [
      "<class 'pandas.core.frame.DataFrame'>\n",
      "Int64Index: 7252 entries, 0 to 16294\n",
      "Data columns (total 9 columns):\n",
      "Date        7252 non-null object\n",
      "Comments    7252 non-null object\n",
      "class0      7252 non-null object\n",
      "class1      503 non-null object\n",
      "class2      232 non-null object\n",
      "class3      75 non-null object\n",
      "class4      25 non-null object\n",
      "class5      5 non-null object\n",
      "class6      1 non-null object\n",
      "dtypes: object(9)\n",
      "memory usage: 566.6+ KB\n"
     ]
    }
   ],
   "source": [
    "df.info()"
   ]
  },
  {
   "cell_type": "code",
   "execution_count": 181,
   "metadata": {},
   "outputs": [],
   "source": [
    "df.Date = pd.to_datetime(df['Date'], format=\"%Y-%m-%d\")"
   ]
  },
  {
   "cell_type": "code",
   "execution_count": 182,
   "metadata": {},
   "outputs": [
    {
     "name": "stdout",
     "output_type": "stream",
     "text": [
      "<class 'pandas.core.frame.DataFrame'>\n",
      "Int64Index: 7252 entries, 0 to 16294\n",
      "Data columns (total 9 columns):\n",
      "Date        7252 non-null datetime64[ns]\n",
      "Comments    7252 non-null object\n",
      "class0      7252 non-null object\n",
      "class1      503 non-null object\n",
      "class2      232 non-null object\n",
      "class3      75 non-null object\n",
      "class4      25 non-null object\n",
      "class5      5 non-null object\n",
      "class6      1 non-null object\n",
      "dtypes: datetime64[ns](1), object(8)\n",
      "memory usage: 566.6+ KB\n"
     ]
    }
   ],
   "source": [
    "df.info()"
   ]
  },
  {
   "cell_type": "code",
   "execution_count": 183,
   "metadata": {},
   "outputs": [],
   "source": [
    "df['DOY'] = df['Date'].dt.dayofyear"
   ]
  },
  {
   "cell_type": "code",
   "execution_count": 184,
   "metadata": {},
   "outputs": [
    {
     "name": "stdout",
     "output_type": "stream",
     "text": [
      "<class 'pandas.core.frame.DataFrame'>\n",
      "Int64Index: 7252 entries, 0 to 16294\n",
      "Data columns (total 10 columns):\n",
      "Date        7252 non-null datetime64[ns]\n",
      "Comments    7252 non-null object\n",
      "class0      7252 non-null object\n",
      "class1      503 non-null object\n",
      "class2      232 non-null object\n",
      "class3      75 non-null object\n",
      "class4      25 non-null object\n",
      "class5      5 non-null object\n",
      "class6      1 non-null object\n",
      "DOY         7252 non-null int64\n",
      "dtypes: datetime64[ns](1), int64(1), object(8)\n",
      "memory usage: 623.2+ KB\n"
     ]
    }
   ],
   "source": [
    "df.info()"
   ]
  },
  {
   "cell_type": "code",
   "execution_count": 185,
   "metadata": {},
   "outputs": [
    {
     "name": "stdout",
     "output_type": "stream",
     "text": [
      "Date 0\n",
      "Comments 0\n",
      "class0 0\n",
      "class1 6749\n",
      "class2 7020\n",
      "class3 7177\n",
      "class4 7227\n",
      "class5 7247\n",
      "class6 7251\n",
      "DOY 0\n"
     ]
    }
   ],
   "source": [
    "class_name = []\n",
    "sums = []\n",
    "for i in df.columns:\n",
    "    print(i, df[i].isna().sum())\n",
    "    class_name.append(i)\n",
    "    sums.append(df[i].isna().sum())"
   ]
  },
  {
   "cell_type": "markdown",
   "metadata": {},
   "source": [
    "So there is close to 1200 rows that dont have any comments"
   ]
  },
  {
   "cell_type": "code",
   "execution_count": 186,
   "metadata": {},
   "outputs": [],
   "source": [
    "import matplotlib.pyplot as plt\n",
    "%matplotlib inline"
   ]
  },
  {
   "cell_type": "code",
   "execution_count": 188,
   "metadata": {},
   "outputs": [
    {
     "data": {
      "image/png": "[encoded data removed]",
      "text/plain": [
       "<Figure size 432x288 with 1 Axes>"
      ]
     },
     "metadata": {
      "needs_background": "light"
     },
     "output_type": "display_data"
    }
   ],
   "source": [
    "plt.bar(class_name,sums)\n",
    "plt.xticks(rotation=90)\n",
    "plt.show()"
   ]
  },
  {
   "cell_type": "code",
   "execution_count": 190,
   "metadata": {},
   "outputs": [
    {
     "data": {
      "text/html": [
       "<div>\n",
       "<style scoped>\n",
       "    .dataframe tbody tr th:only-of-type {\n",
       "        vertical-align: middle;\n",
       "    }\n",
       "\n",
       "    .dataframe tbody tr th {\n",
       "        vertical-align: top;\n",
       "    }\n",
       "\n",
       "    .dataframe thead th {\n",
       "        text-align: right;\n",
       "    }\n",
       "</style>\n",
       "<table border=\"1\" class=\"dataframe\">\n",
       "  <thead>\n",
       "    <tr style=\"text-align: right;\">\n",
       "      <th></th>\n",
       "      <th>Date</th>\n",
       "      <th>Comments</th>\n",
       "      <th>class0</th>\n",
       "      <th>class1</th>\n",
       "      <th>class2</th>\n",
       "      <th>class3</th>\n",
       "      <th>class4</th>\n",
       "      <th>class5</th>\n",
       "      <th>class6</th>\n",
       "      <th>DOY</th>\n",
       "    </tr>\n",
       "  </thead>\n",
       "  <tbody>\n",
       "    <tr>\n",
       "      <td>0</td>\n",
       "      <td>2019-09-07</td>\n",
       "      <td>Love Adams , love the waterfall, initial switc...</td>\n",
       "      <td>hiking</td>\n",
       "      <td>None</td>\n",
       "      <td>None</td>\n",
       "      <td>None</td>\n",
       "      <td>None</td>\n",
       "      <td>None</td>\n",
       "      <td>None</td>\n",
       "      <td>250</td>\n",
       "    </tr>\n",
       "    <tr>\n",
       "      <td>1</td>\n",
       "      <td>2019-09-06</td>\n",
       "      <td>Hiked this today with our 4 and 6 year old. A ...</td>\n",
       "      <td>hiking</td>\n",
       "      <td>None</td>\n",
       "      <td>None</td>\n",
       "      <td>None</td>\n",
       "      <td>None</td>\n",
       "      <td>None</td>\n",
       "      <td>None</td>\n",
       "      <td>249</td>\n",
       "    </tr>\n",
       "    <tr>\n",
       "      <td>2</td>\n",
       "      <td>2019-09-04</td>\n",
       "      <td>Currently closed because of the Snoqualmie fire.</td>\n",
       "      <td>trail running</td>\n",
       "      <td>closed</td>\n",
       "      <td>None</td>\n",
       "      <td>None</td>\n",
       "      <td>None</td>\n",
       "      <td>None</td>\n",
       "      <td>None</td>\n",
       "      <td>247</td>\n",
       "    </tr>\n",
       "    <tr>\n",
       "      <td>3</td>\n",
       "      <td>2019-09-03</td>\n",
       "      <td>I did this trail on August 15th, 2019. It was ...</td>\n",
       "      <td>hiking</td>\n",
       "      <td>bugs</td>\n",
       "      <td>scramble</td>\n",
       "      <td>None</td>\n",
       "      <td>None</td>\n",
       "      <td>None</td>\n",
       "      <td>None</td>\n",
       "      <td>246</td>\n",
       "    </tr>\n",
       "    <tr>\n",
       "      <td>4</td>\n",
       "      <td>2019-09-02</td>\n",
       "      <td>The Sandy switch backs kinda kicks your butt i...</td>\n",
       "      <td>hiking</td>\n",
       "      <td>None</td>\n",
       "      <td>None</td>\n",
       "      <td>None</td>\n",
       "      <td>None</td>\n",
       "      <td>None</td>\n",
       "      <td>None</td>\n",
       "      <td>245</td>\n",
       "    </tr>\n",
       "    <tr>\n",
       "      <td>...</td>\n",
       "      <td>...</td>\n",
       "      <td>...</td>\n",
       "      <td>...</td>\n",
       "      <td>...</td>\n",
       "      <td>...</td>\n",
       "      <td>...</td>\n",
       "      <td>...</td>\n",
       "      <td>...</td>\n",
       "      <td>...</td>\n",
       "      <td>...</td>\n",
       "    </tr>\n",
       "    <tr>\n",
       "      <td>16290</td>\n",
       "      <td>2015-05-04</td>\n",
       "      <td>Trailhead access does feel dodgy, as you're wa...</td>\n",
       "      <td>hiking</td>\n",
       "      <td>None</td>\n",
       "      <td>None</td>\n",
       "      <td>None</td>\n",
       "      <td>None</td>\n",
       "      <td>None</td>\n",
       "      <td>None</td>\n",
       "      <td>124</td>\n",
       "    </tr>\n",
       "    <tr>\n",
       "      <td>16291</td>\n",
       "      <td>2015-04-30</td>\n",
       "      <td>Amazing variety of landscape! A couple of spri...</td>\n",
       "      <td></td>\n",
       "      <td>None</td>\n",
       "      <td>None</td>\n",
       "      <td>None</td>\n",
       "      <td>None</td>\n",
       "      <td>None</td>\n",
       "      <td>None</td>\n",
       "      <td>120</td>\n",
       "    </tr>\n",
       "    <tr>\n",
       "      <td>16292</td>\n",
       "      <td>2015-04-19</td>\n",
       "      <td>I like this new hike I found! Decent variety- ...</td>\n",
       "      <td>hiking</td>\n",
       "      <td>None</td>\n",
       "      <td>None</td>\n",
       "      <td>None</td>\n",
       "      <td>None</td>\n",
       "      <td>None</td>\n",
       "      <td>None</td>\n",
       "      <td>109</td>\n",
       "    </tr>\n",
       "    <tr>\n",
       "      <td>16293</td>\n",
       "      <td>2014-09-18</td>\n",
       "      <td>If you work nearby and have an hour to spare, ...</td>\n",
       "      <td>hiking</td>\n",
       "      <td>None</td>\n",
       "      <td>None</td>\n",
       "      <td>None</td>\n",
       "      <td>None</td>\n",
       "      <td>None</td>\n",
       "      <td>None</td>\n",
       "      <td>261</td>\n",
       "    </tr>\n",
       "    <tr>\n",
       "      <td>16294</td>\n",
       "      <td>2014-07-08</td>\n",
       "      <td>The trail starts off in some guys drive way......</td>\n",
       "      <td>camping</td>\n",
       "      <td>None</td>\n",
       "      <td>None</td>\n",
       "      <td>None</td>\n",
       "      <td>None</td>\n",
       "      <td>None</td>\n",
       "      <td>None</td>\n",
       "      <td>189</td>\n",
       "    </tr>\n",
       "  </tbody>\n",
       "</table>\n",
       "<p>7252 rows × 10 columns</p>\n",
       "</div>"
      ],
      "text/plain": [
       "            Date                                           Comments  \\\n",
       "0     2019-09-07  Love Adams , love the waterfall, initial switc...   \n",
       "1     2019-09-06  Hiked this today with our 4 and 6 year old. A ...   \n",
       "2     2019-09-04   Currently closed because of the Snoqualmie fire.   \n",
       "3     2019-09-03  I did this trail on August 15th, 2019. It was ...   \n",
       "4     2019-09-02  The Sandy switch backs kinda kicks your butt i...   \n",
       "...          ...                                                ...   \n",
       "16290 2015-05-04  Trailhead access does feel dodgy, as you're wa...   \n",
       "16291 2015-04-30  Amazing variety of landscape! A couple of spri...   \n",
       "16292 2015-04-19  I like this new hike I found! Decent variety- ...   \n",
       "16293 2014-09-18  If you work nearby and have an hour to spare, ...   \n",
       "16294 2014-07-08  The trail starts off in some guys drive way......   \n",
       "\n",
       "              class0   class1     class2 class3 class4 class5 class6  DOY  \n",
       "0             hiking     None       None   None   None   None   None  250  \n",
       "1             hiking     None       None   None   None   None   None  249  \n",
       "2      trail running   closed       None   None   None   None   None  247  \n",
       "3             hiking     bugs   scramble   None   None   None   None  246  \n",
       "4             hiking     None       None   None   None   None   None  245  \n",
       "...              ...      ...        ...    ...    ...    ...    ...  ...  \n",
       "16290         hiking     None       None   None   None   None   None  124  \n",
       "16291                    None       None   None   None   None   None  120  \n",
       "16292         hiking     None       None   None   None   None   None  109  \n",
       "16293         hiking     None       None   None   None   None   None  261  \n",
       "16294        camping     None       None   None   None   None   None  189  \n",
       "\n",
       "[7252 rows x 10 columns]"
      ]
     },
     "execution_count": 190,
     "metadata": {},
     "output_type": "execute_result"
    }
   ],
   "source": [
    "df"
   ]
  },
  {
   "cell_type": "code",
   "execution_count": 193,
   "metadata": {},
   "outputs": [
    {
     "data": {
      "text/plain": [
       "Counter({'hiking': 4637,\n",
       "         'trail running': 66,\n",
       "         '': 2326,\n",
       "         'rocky': 5,\n",
       "         'bugs': 2,\n",
       "         'muddy': 9,\n",
       "         'walking': 38,\n",
       "         'camping': 24,\n",
       "         'bird watching': 14,\n",
       "         'rock climbing': 4,\n",
       "         'mountain biking': 7,\n",
       "         'backpacking': 54,\n",
       "         'cross country skiing': 12,\n",
       "         'road biking': 1,\n",
       "         'snowshoeing': 35,\n",
       "         'fishing': 2,\n",
       "         'skiing': 1,\n",
       "         'off road driving': 2,\n",
       "         'horseback riding': 2,\n",
       "         'nature trips': 7,\n",
       "         'scenic driving': 2,\n",
       "         'snow': 1,\n",
       "         'paddle sports': 1})"
      ]
     },
     "execution_count": 193,
     "metadata": {},
     "output_type": "execute_result"
    }
   ],
   "source": [
    "tags = Counter(df['class0'])\n",
    "tags"
   ]
  },
  {
   "cell_type": "markdown",
   "metadata": {},
   "source": [
    "As can be seen there is still some 2300 records that have no labels in class0. Lets see what they are!"
   ]
  },
  {
   "cell_type": "code",
   "execution_count": 195,
   "metadata": {},
   "outputs": [],
   "source": [
    "df = df[df['class0']!='']"
   ]
  },
  {
   "cell_type": "code",
   "execution_count": 220,
   "metadata": {},
   "outputs": [
    {
     "data": {
      "text/html": [
       "<div>\n",
       "<style scoped>\n",
       "    .dataframe tbody tr th:only-of-type {\n",
       "        vertical-align: middle;\n",
       "    }\n",
       "\n",
       "    .dataframe tbody tr th {\n",
       "        vertical-align: top;\n",
       "    }\n",
       "\n",
       "    .dataframe thead th {\n",
       "        text-align: right;\n",
       "    }\n",
       "</style>\n",
       "<table border=\"1\" class=\"dataframe\">\n",
       "  <thead>\n",
       "    <tr style=\"text-align: right;\">\n",
       "      <th></th>\n",
       "      <th>Date</th>\n",
       "      <th>Comments</th>\n",
       "      <th>class0</th>\n",
       "      <th>class1</th>\n",
       "      <th>class2</th>\n",
       "      <th>class3</th>\n",
       "      <th>class4</th>\n",
       "      <th>class5</th>\n",
       "      <th>class6</th>\n",
       "      <th>DOY</th>\n",
       "    </tr>\n",
       "  </thead>\n",
       "  <tbody>\n",
       "    <tr>\n",
       "      <td>0</td>\n",
       "      <td>2019-09-07</td>\n",
       "      <td>Love Adams , love the waterfall, initial switc...</td>\n",
       "      <td>hiking</td>\n",
       "      <td>None</td>\n",
       "      <td>None</td>\n",
       "      <td>None</td>\n",
       "      <td>None</td>\n",
       "      <td>None</td>\n",
       "      <td>None</td>\n",
       "      <td>250</td>\n",
       "    </tr>\n",
       "    <tr>\n",
       "      <td>1</td>\n",
       "      <td>2019-09-06</td>\n",
       "      <td>Hiked this today with our 4 and 6 year old. A ...</td>\n",
       "      <td>hiking</td>\n",
       "      <td>None</td>\n",
       "      <td>None</td>\n",
       "      <td>None</td>\n",
       "      <td>None</td>\n",
       "      <td>None</td>\n",
       "      <td>None</td>\n",
       "      <td>249</td>\n",
       "    </tr>\n",
       "    <tr>\n",
       "      <td>2</td>\n",
       "      <td>2019-09-04</td>\n",
       "      <td>Currently closed because of the Snoqualmie fire.</td>\n",
       "      <td>trail running</td>\n",
       "      <td>closed</td>\n",
       "      <td>None</td>\n",
       "      <td>None</td>\n",
       "      <td>None</td>\n",
       "      <td>None</td>\n",
       "      <td>None</td>\n",
       "      <td>247</td>\n",
       "    </tr>\n",
       "    <tr>\n",
       "      <td>3</td>\n",
       "      <td>2019-09-03</td>\n",
       "      <td>I did this trail on August 15th, 2019. It was ...</td>\n",
       "      <td>hiking</td>\n",
       "      <td>bugs</td>\n",
       "      <td>scramble</td>\n",
       "      <td>None</td>\n",
       "      <td>None</td>\n",
       "      <td>None</td>\n",
       "      <td>None</td>\n",
       "      <td>246</td>\n",
       "    </tr>\n",
       "    <tr>\n",
       "      <td>4</td>\n",
       "      <td>2019-09-02</td>\n",
       "      <td>The Sandy switch backs kinda kicks your butt i...</td>\n",
       "      <td>hiking</td>\n",
       "      <td>None</td>\n",
       "      <td>None</td>\n",
       "      <td>None</td>\n",
       "      <td>None</td>\n",
       "      <td>None</td>\n",
       "      <td>None</td>\n",
       "      <td>245</td>\n",
       "    </tr>\n",
       "  </tbody>\n",
       "</table>\n",
       "</div>"
      ],
      "text/plain": [
       "        Date                                           Comments  \\\n",
       "0 2019-09-07  Love Adams , love the waterfall, initial switc...   \n",
       "1 2019-09-06  Hiked this today with our 4 and 6 year old. A ...   \n",
       "2 2019-09-04   Currently closed because of the Snoqualmie fire.   \n",
       "3 2019-09-03  I did this trail on August 15th, 2019. It was ...   \n",
       "4 2019-09-02  The Sandy switch backs kinda kicks your butt i...   \n",
       "\n",
       "          class0   class1     class2 class3 class4 class5 class6  DOY  \n",
       "0         hiking     None       None   None   None   None   None  250  \n",
       "1         hiking     None       None   None   None   None   None  249  \n",
       "2  trail running   closed       None   None   None   None   None  247  \n",
       "3         hiking     bugs   scramble   None   None   None   None  246  \n",
       "4         hiking     None       None   None   None   None   None  245  "
      ]
     },
     "execution_count": 220,
     "metadata": {},
     "output_type": "execute_result"
    }
   ],
   "source": [
    "df.head()"
   ]
  },
  {
   "cell_type": "code",
   "execution_count": 222,
   "metadata": {},
   "outputs": [
    {
     "name": "stderr",
     "output_type": "stream",
     "text": [
      "/home/fyousef/anaconda3/lib/python3.7/site-packages/pandas/core/generic.py:6287: SettingWithCopyWarning: \n",
      "A value is trying to be set on a copy of a slice from a DataFrame\n",
      "\n",
      "See the caveats in the documentation: http://pandas.pydata.org/pandas-docs/stable/user_guide/indexing.html#returning-a-view-versus-a-copy\n",
      "  self._update_inplace(new_data)\n"
     ]
    }
   ],
   "source": [
    "df['class1'].fillna(value=pd.np.nan, inplace=True)"
   ]
  },
  {
   "cell_type": "code",
   "execution_count": 246,
   "metadata": {},
   "outputs": [],
   "source": [
    "labels= ['class0', 'class1', 'class2', 'class3', 'class4', 'class5', 'class6']"
   ]
  },
  {
   "cell_type": "code",
   "execution_count": 252,
   "metadata": {},
   "outputs": [],
   "source": [
    "def plott(tag):\n",
    "    plt.bar([str(i[0]) for i in tag],[i[1] for i in tag])\n",
    "    plt.xticks(rotation=90)\n",
    "    plt.show()"
   ]
  },
  {
   "cell_type": "code",
   "execution_count": 254,
   "metadata": {},
   "outputs": [
    {
     "data": {
      "image/png": "[encoded data removed]",
      "text/plain": [
       "<Figure size 432x288 with 1 Axes>"
      ]
     },
     "metadata": {
      "needs_background": "light"
     },
     "output_type": "display_data"
    },
    {
     "data": {
      "image/png": "[encoded data removed]",
      "text/plain": [
       "<Figure size 432x288 with 1 Axes>"
      ]
     },
     "metadata": {
      "needs_background": "light"
     },
     "output_type": "display_data"
    },
    {
     "data": {
      "image/png": "[encoded data removed]",
      "text/plain": [
       "<Figure size 432x288 with 1 Axes>"
      ]
     },
     "metadata": {
      "needs_background": "light"
     },
     "output_type": "display_data"
    },
    {
     "data": {
      "image/png": "[encoded data removed]",
      "text/plain": [
       "<Figure size 432x288 with 1 Axes>"
      ]
     },
     "metadata": {
      "needs_background": "light"
     },
     "output_type": "display_data"
    },
    {
     "data": {
      "image/png": "[encoded data removed]",
      "text/plain": [
       "<Figure size 432x288 with 1 Axes>"
      ]
     },
     "metadata": {
      "needs_background": "light"
     },
     "output_type": "display_data"
    },
    {
     "data": {
      "image/png": "[encoded data removed]",
      "text/plain": [
       "<Figure size 432x288 with 1 Axes>"
      ]
     },
     "metadata": {
      "needs_background": "light"
     },
     "output_type": "display_data"
    },
    {
     "data": {
      "image/png": "[encoded data removed]",
      "text/plain": [
       "<Figure size 432x288 with 1 Axes>"
      ]
     },
     "metadata": {
      "needs_background": "light"
     },
     "output_type": "display_data"
    }
   ],
   "source": [
    "for label in labels:\n",
    "    tag = Counter(df[label].tolist())\n",
    "    tag = tag.most_common()\n",
    "    plott(tag)\n",
    "    \n",
    "    "
   ]
  },
  {
   "cell_type": "markdown",
   "metadata": {},
   "source": [
    "This code will remove the first category to have a better look at the other labels."
   ]
  },
  {
   "cell_type": "code",
   "execution_count": 255,
   "metadata": {},
   "outputs": [
    {
     "data": {
      "image/png": "[encoded data removed]",
      "text/plain": [
       "<Figure size 432x288 with 1 Axes>"
      ]
     },
     "metadata": {
      "needs_background": "light"
     },
     "output_type": "display_data"
    },
    {
     "data": {
      "image/png": "[encoded data removed]",
      "text/plain": [
       "<Figure size 432x288 with 1 Axes>"
      ]
     },
     "metadata": {
      "needs_background": "light"
     },
     "output_type": "display_data"
    },
    {
     "data": {
      "image/png": "[encoded data removed]",
      "text/plain": [
       "<Figure size 432x288 with 1 Axes>"
      ]
     },
     "metadata": {
      "needs_background": "light"
     },
     "output_type": "display_data"
    },
    {
     "data": {
      "image/png": "[encoded data removed]",
      "text/plain": [
       "<Figure size 432x288 with 1 Axes>"
      ]
     },
     "metadata": {
      "needs_background": "light"
     },
     "output_type": "display_data"
    },
    {
     "data": {
      "image/png": "[encoded data removed]",
      "text/plain": [
       "<Figure size 432x288 with 1 Axes>"
      ]
     },
     "metadata": {
      "needs_background": "light"
     },
     "output_type": "display_data"
    },
    {
     "data": {
      "image/png": "[encoded data removed]",
      "text/plain": [
       "<Figure size 432x288 with 1 Axes>"
      ]
     },
     "metadata": {
      "needs_background": "light"
     },
     "output_type": "display_data"
    },
    {
     "data": {
      "image/png": "[encoded data removed]",
      "text/plain": [
       "<Figure size 432x288 with 1 Axes>"
      ]
     },
     "metadata": {
      "needs_background": "light"
     },
     "output_type": "display_data"
    }
   ],
   "source": [
    "for label in labels:\n",
    "    tag = Counter(df[label].tolist())\n",
    "    tag = tag.most_common()\n",
    "    tag = tag[1:]\n",
    "    plott(tag)"
   ]
  },
  {
   "cell_type": "markdown",
   "metadata": {},
   "source": [
    "Now we can proceed to check/clean the data before classification."
   ]
  },
  {
   "cell_type": "code",
   "execution_count": 256,
   "metadata": {},
   "outputs": [
    {
     "name": "stdout",
     "output_type": "stream",
     "text": [
      "<class 'pandas.core.frame.DataFrame'>\n",
      "Int64Index: 4926 entries, 0 to 16294\n",
      "Data columns (total 10 columns):\n",
      "Date        4926 non-null datetime64[ns]\n",
      "Comments    4926 non-null object\n",
      "class0      4926 non-null object\n",
      "class1      503 non-null object\n",
      "class2      232 non-null object\n",
      "class3      75 non-null object\n",
      "class4      25 non-null object\n",
      "class5      5 non-null object\n",
      "class6      1 non-null object\n",
      "DOY         4926 non-null int64\n",
      "dtypes: datetime64[ns](1), int64(1), object(8)\n",
      "memory usage: 423.3+ KB\n"
     ]
    }
   ],
   "source": [
    "df.info()"
   ]
  },
  {
   "cell_type": "markdown",
   "metadata": {},
   "source": [
    "We will remove the date column it is not important anymore. "
   ]
  },
  {
   "cell_type": "code",
   "execution_count": 262,
   "metadata": {},
   "outputs": [
    {
     "data": {
      "text/html": [
       "<div>\n",
       "<style scoped>\n",
       "    .dataframe tbody tr th:only-of-type {\n",
       "        vertical-align: middle;\n",
       "    }\n",
       "\n",
       "    .dataframe tbody tr th {\n",
       "        vertical-align: top;\n",
       "    }\n",
       "\n",
       "    .dataframe thead th {\n",
       "        text-align: right;\n",
       "    }\n",
       "</style>\n",
       "<table border=\"1\" class=\"dataframe\">\n",
       "  <thead>\n",
       "    <tr style=\"text-align: right;\">\n",
       "      <th></th>\n",
       "      <th>Comments</th>\n",
       "      <th>class0</th>\n",
       "      <th>class1</th>\n",
       "      <th>class2</th>\n",
       "      <th>class3</th>\n",
       "      <th>class4</th>\n",
       "      <th>class5</th>\n",
       "      <th>class6</th>\n",
       "    </tr>\n",
       "  </thead>\n",
       "  <tbody>\n",
       "    <tr>\n",
       "      <td>0</td>\n",
       "      <td>Love Adams , love the waterfall, initial switc...</td>\n",
       "      <td>hiking</td>\n",
       "      <td>NaN</td>\n",
       "      <td>None</td>\n",
       "      <td>None</td>\n",
       "      <td>None</td>\n",
       "      <td>None</td>\n",
       "      <td>None</td>\n",
       "    </tr>\n",
       "    <tr>\n",
       "      <td>1</td>\n",
       "      <td>Hiked this today with our 4 and 6 year old. A ...</td>\n",
       "      <td>hiking</td>\n",
       "      <td>NaN</td>\n",
       "      <td>None</td>\n",
       "      <td>None</td>\n",
       "      <td>None</td>\n",
       "      <td>None</td>\n",
       "      <td>None</td>\n",
       "    </tr>\n",
       "    <tr>\n",
       "      <td>2</td>\n",
       "      <td>Currently closed because of the Snoqualmie fire.</td>\n",
       "      <td>trail running</td>\n",
       "      <td>closed</td>\n",
       "      <td>None</td>\n",
       "      <td>None</td>\n",
       "      <td>None</td>\n",
       "      <td>None</td>\n",
       "      <td>None</td>\n",
       "    </tr>\n",
       "    <tr>\n",
       "      <td>3</td>\n",
       "      <td>I did this trail on August 15th, 2019. It was ...</td>\n",
       "      <td>hiking</td>\n",
       "      <td>bugs</td>\n",
       "      <td>scramble</td>\n",
       "      <td>None</td>\n",
       "      <td>None</td>\n",
       "      <td>None</td>\n",
       "      <td>None</td>\n",
       "    </tr>\n",
       "    <tr>\n",
       "      <td>4</td>\n",
       "      <td>The Sandy switch backs kinda kicks your butt i...</td>\n",
       "      <td>hiking</td>\n",
       "      <td>NaN</td>\n",
       "      <td>None</td>\n",
       "      <td>None</td>\n",
       "      <td>None</td>\n",
       "      <td>None</td>\n",
       "      <td>None</td>\n",
       "    </tr>\n",
       "  </tbody>\n",
       "</table>\n",
       "</div>"
      ],
      "text/plain": [
       "                                            Comments         class0   class1  \\\n",
       "0  Love Adams , love the waterfall, initial switc...         hiking      NaN   \n",
       "1  Hiked this today with our 4 and 6 year old. A ...         hiking      NaN   \n",
       "2   Currently closed because of the Snoqualmie fire.  trail running   closed   \n",
       "3  I did this trail on August 15th, 2019. It was ...         hiking     bugs   \n",
       "4  The Sandy switch backs kinda kicks your butt i...         hiking      NaN   \n",
       "\n",
       "      class2 class3 class4 class5 class6  \n",
       "0       None   None   None   None   None  \n",
       "1       None   None   None   None   None  \n",
       "2       None   None   None   None   None  \n",
       "3   scramble   None   None   None   None  \n",
       "4       None   None   None   None   None  "
      ]
     },
     "execution_count": 262,
     "metadata": {},
     "output_type": "execute_result"
    }
   ],
   "source": [
    "df = df.drop(['Date', 'DOY'], axis=1)\n",
    "df.head()"
   ]
  },
  {
   "cell_type": "code",
   "execution_count": 263,
   "metadata": {},
   "outputs": [
    {
     "data": {
      "text/html": [
       "<div>\n",
       "<style scoped>\n",
       "    .dataframe tbody tr th:only-of-type {\n",
       "        vertical-align: middle;\n",
       "    }\n",
       "\n",
       "    .dataframe tbody tr th {\n",
       "        vertical-align: top;\n",
       "    }\n",
       "\n",
       "    .dataframe thead th {\n",
       "        text-align: right;\n",
       "    }\n",
       "</style>\n",
       "<table border=\"1\" class=\"dataframe\">\n",
       "  <thead>\n",
       "    <tr style=\"text-align: right;\">\n",
       "      <th></th>\n",
       "      <th>class0</th>\n",
       "      <th>class1</th>\n",
       "      <th>class2</th>\n",
       "      <th>class3</th>\n",
       "      <th>class4</th>\n",
       "      <th>class5</th>\n",
       "      <th>class6</th>\n",
       "    </tr>\n",
       "  </thead>\n",
       "  <tbody>\n",
       "    <tr>\n",
       "      <td>count</td>\n",
       "      <td>4926</td>\n",
       "      <td>503</td>\n",
       "      <td>232</td>\n",
       "      <td>75</td>\n",
       "      <td>25</td>\n",
       "      <td>5</td>\n",
       "      <td>1</td>\n",
       "    </tr>\n",
       "    <tr>\n",
       "      <td>unique</td>\n",
       "      <td>22</td>\n",
       "      <td>13</td>\n",
       "      <td>9</td>\n",
       "      <td>8</td>\n",
       "      <td>4</td>\n",
       "      <td>2</td>\n",
       "      <td>1</td>\n",
       "    </tr>\n",
       "    <tr>\n",
       "      <td>top</td>\n",
       "      <td>hiking</td>\n",
       "      <td>muddy</td>\n",
       "      <td>rocky</td>\n",
       "      <td>scramble</td>\n",
       "      <td>snow</td>\n",
       "      <td>snow</td>\n",
       "      <td>washed out</td>\n",
       "    </tr>\n",
       "    <tr>\n",
       "      <td>freq</td>\n",
       "      <td>4637</td>\n",
       "      <td>143</td>\n",
       "      <td>108</td>\n",
       "      <td>25</td>\n",
       "      <td>9</td>\n",
       "      <td>3</td>\n",
       "      <td>1</td>\n",
       "    </tr>\n",
       "  </tbody>\n",
       "</table>\n",
       "</div>"
      ],
      "text/plain": [
       "        class0  class1  class2     class3 class4 class5       class6\n",
       "count     4926     503     232         75     25      5            1\n",
       "unique      22      13       9          8      4      2            1\n",
       "top     hiking   muddy   rocky   scramble   snow   snow   washed out\n",
       "freq      4637     143     108         25      9      3            1"
      ]
     },
     "execution_count": 263,
     "metadata": {},
     "output_type": "execute_result"
    }
   ],
   "source": [
    "df[labels].describe()"
   ]
  }
 ],
 "metadata": {
  "kernelspec": {
   "display_name": "Python 3",
   "language": "python",
   "name": "python3"
  },
  "language_info": {
   "codemirror_mode": {
    "name": "ipython",
    "version": 3
   },
   "file_extension": ".py",
   "mimetype": "text/x-python",
   "name": "python",
   "nbconvert_exporter": "python",
   "pygments_lexer": "ipython3",
   "version": "3.7.4"
  }
 },
 "nbformat": 4,
 "nbformat_minor": 2
}
